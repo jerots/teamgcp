{
 "cells": [
  {
   "cell_type": "code",
   "execution_count": 142,
   "metadata": {
    "collapsed": true
   },
   "outputs": [],
   "source": [
    "import numpy as np\n",
    "import pandas as pd\n",
    "\n",
    "import glob\n",
    "import re\n",
    "import math\n",
    "\n",
    "# user='jeremyong'\n",
    "txt='behminyan'"
   ]
  },
  {
   "cell_type": "code",
   "execution_count": 143,
   "metadata": {
    "collapsed": false
   },
   "outputs": [
    {
     "name": "stdout",
     "output_type": "stream",
     "text": [
      "USERNAMES: ['behminyan', 'changsheng', 'jeremyong']\n"
     ]
    }
   ],
   "source": [
    "users=[]\n",
    "folders=glob.glob(\"data/train/*\") #PLS EDIT\n",
    "\n",
    "for fd in folders:\n",
    "    users.append(fd[fd.rfind('/')+1:])\n",
    "    \n",
    "print 'USERNAMES:', users"
   ]
  },
  {
   "cell_type": "code",
   "execution_count": 144,
   "metadata": {
    "collapsed": false
   },
   "outputs": [],
   "source": [
    "def calcbearing(pointA, pointB):\n",
    "    \"\"\"\n",
    "    Calculates the bearing between two points.\n",
    "    The formulae used is the following:\n",
    "        θ = atan2(sin(Δlong).cos(lat2),\n",
    "                  cos(lat1).sin(lat2) − sin(lat1).cos(lat2).cos(Δlong))\n",
    "    :Parameters:\n",
    "      - `pointA: The tuple representing the latitude/longitude for the\n",
    "        first point. Latitude and longitude must be in decimal degrees\n",
    "      - `pointB: The tuple representing the latitude/longitude for the\n",
    "        second point. Latitude and longitude must be in decimal degrees\n",
    "    :Returns:\n",
    "      The bearing in degrees\n",
    "    :Returns Type:\n",
    "      float\n",
    "    \n",
    "    Source - https://gist.github.com/jeromer/2005586\n",
    "    \"\"\"\n",
    "    if (type(pointA) != tuple) or (type(pointB) != tuple):\n",
    "        raise TypeError(\"Only tuples are supported as arguments\")\n",
    "\n",
    "    lat1 = math.radians(pointA[0])\n",
    "    lat2 = math.radians(pointB[0])\n",
    "\n",
    "    diffLong = math.radians(pointB[1] - pointA[1])\n",
    "\n",
    "    x = math.sin(diffLong) * math.cos(lat2)\n",
    "    y = math.cos(lat1) * math.sin(lat2) - (math.sin(lat1)\n",
    "            * math.cos(lat2) * math.cos(diffLong))\n",
    "\n",
    "    initial_bearing = math.atan2(x, y)\n",
    "\n",
    "    # Now we have the initial bearing but math.atan2 return values\n",
    "    # from -180° to + 180° which is not what we want for a compass bearing\n",
    "    # The solution is to normalize the initial bearing as shown below\n",
    "    initial_bearing = math.degrees(initial_bearing)\n",
    "    compass_bearing = (initial_bearing + 360) % 360\n",
    "\n",
    "    return compass_bearing"
   ]
  },
  {
   "cell_type": "code",
   "execution_count": null,
   "metadata": {
    "collapsed": true
   },
   "outputs": [],
   "source": []
  },
  {
   "cell_type": "code",
   "execution_count": 145,
   "metadata": {
    "collapsed": false
   },
   "outputs": [
    {
     "name": "stdout",
     "output_type": "stream",
     "text": [
      "FILENAMES: ['data/train/behminyan/behminyan_1.csv', 'data/train/behminyan/behminyan_2.csv', 'data/train/behminyan/behminyan_3.csv', 'data/train/behminyan/behminyan_4.csv', 'data/train/behminyan/behminyan_5.csv']\n",
      "FILENAMES: ['data/train/changsheng/behminyan_1.csv', 'data/train/changsheng/behminyan_10.csv', 'data/train/changsheng/behminyan_2.csv', 'data/train/changsheng/behminyan_3.csv', 'data/train/changsheng/behminyan_4.csv', 'data/train/changsheng/behminyan_5.csv', 'data/train/changsheng/behminyan_6.csv', 'data/train/changsheng/behminyan_7.csv', 'data/train/changsheng/behminyan_8.csv', 'data/train/changsheng/behminyan_9.csv']\n",
      "FILENAMES: ['data/train/jeremyong/behminyan_1.csv', 'data/train/jeremyong/behminyan_2.csv', 'data/train/jeremyong/behminyan_3.csv', 'data/train/jeremyong/behminyan_4.csv', 'data/train/jeremyong/behminyan_5.csv']\n"
     ]
    }
   ],
   "source": [
    "df_rows = []\n",
    "cols=[\"text\",\"user\"]\n",
    "letters=\"\"\n",
    "\n",
    "for user in users:\n",
    "    filenames=glob.glob(\"data/train/\"+user+\"/\"+txt+\"*.csv\")\n",
    "    print 'FILENAMES:', filenames\n",
    "    \n",
    "    for filename in filenames:\n",
    "\n",
    "        input = pd.read_csv(filename)\n",
    "        userrow={}        \n",
    "        userrow['text'] = txt\n",
    "        userrow['user'] = user\n",
    "        \n",
    "        letters=input.letter\n",
    "        xdown=input.down_x\n",
    "        ydown=input.down_y\n",
    "        xup=input.up_x\n",
    "        yup=input.up_y\n",
    "        \n",
    "        for i in range(len(letters)):\n",
    "            if (letters[i]=='return'):\n",
    "                break\n",
    "            userrow[letters[i]+str(i)+'_xdown']=xdown[i]\n",
    "            userrow[letters[i]+str(i)+'_ydown']=ydown[i]\n",
    "            userrow[letters[i]+str(i)+'_xup']=xup[i]\n",
    "            userrow[letters[i]+str(i)+'_yup']=yup[i]\n",
    "            userrow[letters[i]+str(i)+'_b']=calcbearing((xdown[i],ydown[i]),(xup[i],yup[i]))\n",
    "\n",
    "        df_rows.append(userrow)\n",
    "    \n",
    "for i in range(len(letters)): # SOON TO CHANGE\n",
    "    if (letters[i]=='return'):\n",
    "        break\n",
    "    cols.append(letters[i]+str(i)+'_xdown')\n",
    "    cols.append(letters[i]+str(i)+'_ydown')\n",
    "    cols.append(letters[i]+str(i)+'_xup')\n",
    "    cols.append(letters[i]+str(i)+'_yup')\n",
    "    cols.append(letters[i]+str(i)+'_b')"
   ]
  },
  {
   "cell_type": "code",
   "execution_count": 146,
   "metadata": {
    "collapsed": false
   },
   "outputs": [],
   "source": [
    "combined = pd.DataFrame(df_rows,columns=cols)"
   ]
  },
  {
   "cell_type": "code",
   "execution_count": 147,
   "metadata": {
    "collapsed": true
   },
   "outputs": [],
   "source": [
    "# Taken from: https://www.peterbe.com/plog/uniqifiers-benchmark\n",
    "def unique (seq, idfun=None): # order preserving\n",
    "    if idfun is None:\n",
    "        def idfun(x): \n",
    "            return x\n",
    "    seen = {}\n",
    "    result = []\n",
    "    for item in seq:\n",
    "        marker = idfun(item)\n",
    "        if marker in seen: \n",
    "            continue\n",
    "        seen[marker] = 1\n",
    "        result.append(item)\n",
    "    return result"
   ]
  },
  {
   "cell_type": "code",
   "execution_count": 148,
   "metadata": {
    "collapsed": false
   },
   "outputs": [
    {
     "name": "stdout",
     "output_type": "stream",
     "text": [
      "['behminyan', 'changsheng', 'jeremyong']\n"
     ]
    },
    {
     "data": {
      "text/html": [
       "<div>\n",
       "<table border=\"1\" class=\"dataframe\">\n",
       "  <thead>\n",
       "    <tr style=\"text-align: right;\">\n",
       "      <th></th>\n",
       "      <th>text</th>\n",
       "      <th>user</th>\n",
       "      <th>b0_xdown</th>\n",
       "      <th>b0_ydown</th>\n",
       "      <th>b0_xup</th>\n",
       "      <th>b0_yup</th>\n",
       "      <th>b0_b</th>\n",
       "      <th>e1_xdown</th>\n",
       "      <th>e1_ydown</th>\n",
       "      <th>e1_xup</th>\n",
       "      <th>...</th>\n",
       "      <th>a9_ydown</th>\n",
       "      <th>a9_xup</th>\n",
       "      <th>a9_yup</th>\n",
       "      <th>a9_b</th>\n",
       "      <th>n10_xdown</th>\n",
       "      <th>n10_ydown</th>\n",
       "      <th>n10_xup</th>\n",
       "      <th>n10_yup</th>\n",
       "      <th>n10_b</th>\n",
       "      <th>cat</th>\n",
       "    </tr>\n",
       "  </thead>\n",
       "  <tbody>\n",
       "    <tr>\n",
       "      <th>0</th>\n",
       "      <td>behminyan</td>\n",
       "      <td>behminyan</td>\n",
       "      <td>61.020408</td>\n",
       "      <td>63.079777</td>\n",
       "      <td>61.020408</td>\n",
       "      <td>63.079777</td>\n",
       "      <td>0</td>\n",
       "      <td>26.632653</td>\n",
       "      <td>14.656772</td>\n",
       "      <td>26.632653</td>\n",
       "      <td>...</td>\n",
       "      <td>37.291280</td>\n",
       "      <td>8.163265</td>\n",
       "      <td>37.291280</td>\n",
       "      <td>0</td>\n",
       "      <td>66.836735</td>\n",
       "      <td>56.771800</td>\n",
       "      <td>66.836735</td>\n",
       "      <td>56.771800</td>\n",
       "      <td>0</td>\n",
       "      <td>0</td>\n",
       "    </tr>\n",
       "    <tr>\n",
       "      <th>1</th>\n",
       "      <td>behminyan</td>\n",
       "      <td>behminyan</td>\n",
       "      <td>61.020408</td>\n",
       "      <td>63.079777</td>\n",
       "      <td>61.020408</td>\n",
       "      <td>63.079777</td>\n",
       "      <td>0</td>\n",
       "      <td>26.632653</td>\n",
       "      <td>14.656772</td>\n",
       "      <td>26.632653</td>\n",
       "      <td>...</td>\n",
       "      <td>37.291280</td>\n",
       "      <td>8.163265</td>\n",
       "      <td>37.291280</td>\n",
       "      <td>0</td>\n",
       "      <td>66.836735</td>\n",
       "      <td>56.771800</td>\n",
       "      <td>66.836735</td>\n",
       "      <td>56.771800</td>\n",
       "      <td>0</td>\n",
       "      <td>0</td>\n",
       "    </tr>\n",
       "    <tr>\n",
       "      <th>2</th>\n",
       "      <td>behminyan</td>\n",
       "      <td>behminyan</td>\n",
       "      <td>61.938776</td>\n",
       "      <td>66.233766</td>\n",
       "      <td>61.938776</td>\n",
       "      <td>66.233766</td>\n",
       "      <td>0</td>\n",
       "      <td>27.551020</td>\n",
       "      <td>7.792208</td>\n",
       "      <td>27.551020</td>\n",
       "      <td>...</td>\n",
       "      <td>34.693878</td>\n",
       "      <td>9.897959</td>\n",
       "      <td>34.693878</td>\n",
       "      <td>0</td>\n",
       "      <td>67.551020</td>\n",
       "      <td>57.328386</td>\n",
       "      <td>67.551020</td>\n",
       "      <td>57.328386</td>\n",
       "      <td>0</td>\n",
       "      <td>0</td>\n",
       "    </tr>\n",
       "    <tr>\n",
       "      <th>3</th>\n",
       "      <td>behminyan</td>\n",
       "      <td>behminyan</td>\n",
       "      <td>59.897959</td>\n",
       "      <td>61.410019</td>\n",
       "      <td>59.897959</td>\n",
       "      <td>61.410019</td>\n",
       "      <td>0</td>\n",
       "      <td>27.653061</td>\n",
       "      <td>10.018553</td>\n",
       "      <td>27.653061</td>\n",
       "      <td>...</td>\n",
       "      <td>29.128015</td>\n",
       "      <td>8.877551</td>\n",
       "      <td>29.128015</td>\n",
       "      <td>0</td>\n",
       "      <td>65.918367</td>\n",
       "      <td>57.699443</td>\n",
       "      <td>65.918367</td>\n",
       "      <td>57.699443</td>\n",
       "      <td>0</td>\n",
       "      <td>0</td>\n",
       "    </tr>\n",
       "    <tr>\n",
       "      <th>4</th>\n",
       "      <td>behminyan</td>\n",
       "      <td>behminyan</td>\n",
       "      <td>61.938776</td>\n",
       "      <td>63.636364</td>\n",
       "      <td>61.938776</td>\n",
       "      <td>63.636364</td>\n",
       "      <td>0</td>\n",
       "      <td>26.326531</td>\n",
       "      <td>14.842301</td>\n",
       "      <td>26.326531</td>\n",
       "      <td>...</td>\n",
       "      <td>33.951763</td>\n",
       "      <td>10.102041</td>\n",
       "      <td>33.951763</td>\n",
       "      <td>0</td>\n",
       "      <td>68.163265</td>\n",
       "      <td>63.079777</td>\n",
       "      <td>68.163265</td>\n",
       "      <td>63.079777</td>\n",
       "      <td>0</td>\n",
       "      <td>0</td>\n",
       "    </tr>\n",
       "  </tbody>\n",
       "</table>\n",
       "<p>5 rows × 58 columns</p>\n",
       "</div>"
      ],
      "text/plain": [
       "        text       user   b0_xdown   b0_ydown     b0_xup     b0_yup  b0_b  \\\n",
       "0  behminyan  behminyan  61.020408  63.079777  61.020408  63.079777     0   \n",
       "1  behminyan  behminyan  61.020408  63.079777  61.020408  63.079777     0   \n",
       "2  behminyan  behminyan  61.938776  66.233766  61.938776  66.233766     0   \n",
       "3  behminyan  behminyan  59.897959  61.410019  59.897959  61.410019     0   \n",
       "4  behminyan  behminyan  61.938776  63.636364  61.938776  63.636364     0   \n",
       "\n",
       "    e1_xdown   e1_ydown     e1_xup ...    a9_ydown     a9_xup     a9_yup  \\\n",
       "0  26.632653  14.656772  26.632653 ...   37.291280   8.163265  37.291280   \n",
       "1  26.632653  14.656772  26.632653 ...   37.291280   8.163265  37.291280   \n",
       "2  27.551020   7.792208  27.551020 ...   34.693878   9.897959  34.693878   \n",
       "3  27.653061  10.018553  27.653061 ...   29.128015   8.877551  29.128015   \n",
       "4  26.326531  14.842301  26.326531 ...   33.951763  10.102041  33.951763   \n",
       "\n",
       "   a9_b  n10_xdown  n10_ydown    n10_xup    n10_yup  n10_b  cat  \n",
       "0     0  66.836735  56.771800  66.836735  56.771800      0    0  \n",
       "1     0  66.836735  56.771800  66.836735  56.771800      0    0  \n",
       "2     0  67.551020  57.328386  67.551020  57.328386      0    0  \n",
       "3     0  65.918367  57.699443  65.918367  57.699443      0    0  \n",
       "4     0  68.163265  63.079777  68.163265  63.079777      0    0  \n",
       "\n",
       "[5 rows x 58 columns]"
      ]
     },
     "execution_count": 148,
     "metadata": {},
     "output_type": "execute_result"
    }
   ],
   "source": [
    "cats=combined['user'].tolist()\n",
    "catlist=unique(cats)\n",
    "print catlist\n",
    "\n",
    "combined['cat'] = [catlist.index(x) for x in combined.user]\n",
    "combined.head()"
   ]
  },
  {
   "cell_type": "markdown",
   "metadata": {},
   "source": [
    "# Recursive Feature Elimination"
   ]
  },
  {
   "cell_type": "code",
   "execution_count": 149,
   "metadata": {
    "collapsed": false
   },
   "outputs": [],
   "source": [
    "traindata=combined.drop(['text','user','cat'], axis=1).as_matrix(columns=None)\n",
    "labels=combined['cat'].tolist()"
   ]
  },
  {
   "cell_type": "code",
   "execution_count": 150,
   "metadata": {
    "collapsed": false
   },
   "outputs": [
    {
     "name": "stdout",
     "output_type": "stream",
     "text": [
      "[False False False False False False False False False False False False\n",
      " False False False False  True False False False False False False False\n",
      " False False False False  True False False False False False False False\n",
      " False False False False False False False False False False False False\n",
      " False False False False False  True False]\n",
      "[38 43 37 44 51 15 33 11 31 47 16 13 12  8 46  9  1  3  5 42 36 17 40 23 45\n",
      " 32 18 35  1 24 20  6 22 19 52  7 21  2 26 50 25 30 27 34 48 28 10 29  4 49\n",
      " 39 14 41  1 53]\n"
     ]
    }
   ],
   "source": [
    "# Recursive Feature Elimination\n",
    "from sklearn.feature_selection import RFE\n",
    "from sklearn.linear_model import LogisticRegression\n",
    "\n",
    "# create a base classifier used to evaluate a subset of attributes\n",
    "model = LogisticRegression()\n",
    "# create the RFE model and select 3 attributes\n",
    "rfe = RFE(model, 3)\n",
    "# rfe = rfe.fit(dataset.data, dataset.target)\n",
    "rfe = rfe.fit(traindata, labels)\n",
    "# summarize the selection of the attributes\n",
    "print(rfe.support_)\n",
    "print(rfe.ranking_)"
   ]
  },
  {
   "cell_type": "code",
   "execution_count": 151,
   "metadata": {
    "collapsed": false
   },
   "outputs": [
    {
     "name": "stdout",
     "output_type": "stream",
     "text": [
      "['b0_xdown', 'b0_ydown', 'b0_xup', 'b0_yup', 'b0_b', 'e1_xdown', 'e1_ydown', 'e1_xup', 'e1_yup', 'e1_b', 'h2_xdown', 'h2_ydown', 'h2_xup', 'h2_yup', 'h2_b', 'space3_xdown', 'space3_ydown', 'space3_xup', 'space3_yup', 'space3_b', 'm4_xdown', 'm4_ydown', 'm4_xup', 'm4_yup', 'm4_b', 'i5_xdown', 'i5_ydown', 'i5_xup', 'i5_yup', 'i5_b', 'n6_xdown', 'n6_ydown', 'n6_xup', 'n6_yup', 'n6_b', 'space7_xdown', 'space7_ydown', 'space7_xup', 'space7_yup', 'space7_b', 'y8_xdown', 'y8_ydown', 'y8_xup', 'y8_yup', 'y8_b', 'a9_xdown', 'a9_ydown', 'a9_xup', 'a9_yup', 'a9_b', 'n10_xdown', 'n10_ydown', 'n10_xup', 'n10_yup', 'n10_b']\n"
     ]
    }
   ],
   "source": [
    "train_features=cols[2:]\n",
    "print train_features\n"
   ]
  },
  {
   "cell_type": "code",
   "execution_count": 152,
   "metadata": {
    "collapsed": false
   },
   "outputs": [
    {
     "data": {
      "text/html": [
       "<div>\n",
       "<table border=\"1\" class=\"dataframe\">\n",
       "  <thead>\n",
       "    <tr style=\"text-align: right;\">\n",
       "      <th></th>\n",
       "      <th>feature</th>\n",
       "      <th>importance</th>\n",
       "    </tr>\n",
       "  </thead>\n",
       "  <tbody>\n",
       "    <tr>\n",
       "      <th>28</th>\n",
       "      <td>i5_yup</td>\n",
       "      <td>1</td>\n",
       "    </tr>\n",
       "    <tr>\n",
       "      <th>16</th>\n",
       "      <td>space3_ydown</td>\n",
       "      <td>1</td>\n",
       "    </tr>\n",
       "    <tr>\n",
       "      <th>53</th>\n",
       "      <td>n10_yup</td>\n",
       "      <td>1</td>\n",
       "    </tr>\n",
       "    <tr>\n",
       "      <th>37</th>\n",
       "      <td>space7_xup</td>\n",
       "      <td>2</td>\n",
       "    </tr>\n",
       "    <tr>\n",
       "      <th>17</th>\n",
       "      <td>space3_xup</td>\n",
       "      <td>3</td>\n",
       "    </tr>\n",
       "    <tr>\n",
       "      <th>48</th>\n",
       "      <td>a9_yup</td>\n",
       "      <td>4</td>\n",
       "    </tr>\n",
       "    <tr>\n",
       "      <th>18</th>\n",
       "      <td>space3_yup</td>\n",
       "      <td>5</td>\n",
       "    </tr>\n",
       "    <tr>\n",
       "      <th>31</th>\n",
       "      <td>n6_ydown</td>\n",
       "      <td>6</td>\n",
       "    </tr>\n",
       "    <tr>\n",
       "      <th>35</th>\n",
       "      <td>space7_xdown</td>\n",
       "      <td>7</td>\n",
       "    </tr>\n",
       "    <tr>\n",
       "      <th>13</th>\n",
       "      <td>h2_yup</td>\n",
       "      <td>8</td>\n",
       "    </tr>\n",
       "  </tbody>\n",
       "</table>\n",
       "</div>"
      ],
      "text/plain": [
       "         feature  importance\n",
       "28        i5_yup           1\n",
       "16  space3_ydown           1\n",
       "53       n10_yup           1\n",
       "37    space7_xup           2\n",
       "17    space3_xup           3\n",
       "48        a9_yup           4\n",
       "18    space3_yup           5\n",
       "31      n6_ydown           6\n",
       "35  space7_xdown           7\n",
       "13        h2_yup           8"
      ]
     },
     "execution_count": 152,
     "metadata": {},
     "output_type": "execute_result"
    }
   ],
   "source": [
    "shortlist1=pd.DataFrame({'feature': train_features, 'importance':rfe.ranking_}).sort_values(by=['importance'],ascending=True)\n",
    "shortlist1.head(10)"
   ]
  },
  {
   "cell_type": "code",
   "execution_count": 153,
   "metadata": {
    "collapsed": false
   },
   "outputs": [
    {
     "name": "stdout",
     "output_type": "stream",
     "text": [
      "['i5_yup', 'space3_ydown', 'n10_yup', 'space7_xup', 'space3_xup', 'a9_yup', 'space3_yup', 'n6_ydown', 'space7_xdown', 'h2_yup']\n"
     ]
    }
   ],
   "source": [
    "shortlist1=shortlist1.head(10)['feature'].tolist()\n",
    "print shortlist1"
   ]
  },
  {
   "cell_type": "markdown",
   "metadata": {},
   "source": [
    "# Ensemble Feature Importance"
   ]
  },
  {
   "cell_type": "code",
   "execution_count": 154,
   "metadata": {
    "collapsed": false
   },
   "outputs": [
    {
     "name": "stdout",
     "output_type": "stream",
     "text": [
      "[ 0.          0.          0.          0.          0.          0.01661475\n",
      "  0.          0.05547074  0.          0.          0.          0.          0.\n",
      "  0.04422572  0.          0.10521781  0.          0.06557228  0.10124715\n",
      "  0.01466276  0.13321914  0.          0.07213266  0.          0.          0.\n",
      "  0.          0.          0.01335878  0.          0.          0.          0.\n",
      "  0.0526699   0.          0.1         0.          0.          0.13075106\n",
      "  0.          0.          0.01377953  0.0279965   0.          0.          0.\n",
      "  0.          0.          0.05308123  0.          0.          0.          0.\n",
      "  0.          0.        ]\n"
     ]
    }
   ],
   "source": [
    "# Feature Importance\n",
    "# from sklearn import datasets\n",
    "from sklearn import metrics\n",
    "from sklearn.ensemble import RandomForestClassifier\n",
    "\n",
    "# fit an Extra Trees model to the data\n",
    "model = RandomForestClassifier()\n",
    "model.fit(traindata, labels)\n",
    "# display the relative importance of each attribute\n",
    "print(model.feature_importances_)"
   ]
  },
  {
   "cell_type": "code",
   "execution_count": 155,
   "metadata": {
    "collapsed": false
   },
   "outputs": [
    {
     "data": {
      "text/html": [
       "<div>\n",
       "<table border=\"1\" class=\"dataframe\">\n",
       "  <thead>\n",
       "    <tr style=\"text-align: right;\">\n",
       "      <th></th>\n",
       "      <th>feature</th>\n",
       "      <th>importance</th>\n",
       "    </tr>\n",
       "  </thead>\n",
       "  <tbody>\n",
       "    <tr>\n",
       "      <th>20</th>\n",
       "      <td>m4_xdown</td>\n",
       "      <td>0.133219</td>\n",
       "    </tr>\n",
       "    <tr>\n",
       "      <th>38</th>\n",
       "      <td>space7_yup</td>\n",
       "      <td>0.130751</td>\n",
       "    </tr>\n",
       "    <tr>\n",
       "      <th>15</th>\n",
       "      <td>space3_xdown</td>\n",
       "      <td>0.105218</td>\n",
       "    </tr>\n",
       "    <tr>\n",
       "      <th>18</th>\n",
       "      <td>space3_yup</td>\n",
       "      <td>0.101247</td>\n",
       "    </tr>\n",
       "    <tr>\n",
       "      <th>35</th>\n",
       "      <td>space7_xdown</td>\n",
       "      <td>0.100000</td>\n",
       "    </tr>\n",
       "    <tr>\n",
       "      <th>22</th>\n",
       "      <td>m4_xup</td>\n",
       "      <td>0.072133</td>\n",
       "    </tr>\n",
       "    <tr>\n",
       "      <th>17</th>\n",
       "      <td>space3_xup</td>\n",
       "      <td>0.065572</td>\n",
       "    </tr>\n",
       "    <tr>\n",
       "      <th>7</th>\n",
       "      <td>e1_xup</td>\n",
       "      <td>0.055471</td>\n",
       "    </tr>\n",
       "    <tr>\n",
       "      <th>48</th>\n",
       "      <td>a9_yup</td>\n",
       "      <td>0.053081</td>\n",
       "    </tr>\n",
       "    <tr>\n",
       "      <th>33</th>\n",
       "      <td>n6_yup</td>\n",
       "      <td>0.052670</td>\n",
       "    </tr>\n",
       "  </tbody>\n",
       "</table>\n",
       "</div>"
      ],
      "text/plain": [
       "         feature  importance\n",
       "20      m4_xdown    0.133219\n",
       "38    space7_yup    0.130751\n",
       "15  space3_xdown    0.105218\n",
       "18    space3_yup    0.101247\n",
       "35  space7_xdown    0.100000\n",
       "22        m4_xup    0.072133\n",
       "17    space3_xup    0.065572\n",
       "7         e1_xup    0.055471\n",
       "48        a9_yup    0.053081\n",
       "33        n6_yup    0.052670"
      ]
     },
     "execution_count": 155,
     "metadata": {},
     "output_type": "execute_result"
    }
   ],
   "source": [
    "shortlist2=pd.DataFrame({'feature':train_features, 'importance':model.feature_importances_}).sort_values(by=['importance'],ascending=False)\n",
    "shortlist2.head(10)"
   ]
  },
  {
   "cell_type": "code",
   "execution_count": 156,
   "metadata": {
    "collapsed": false
   },
   "outputs": [
    {
     "name": "stdout",
     "output_type": "stream",
     "text": [
      "['m4_xdown', 'space7_yup', 'space3_xdown', 'space3_yup', 'space7_xdown', 'm4_xup', 'space3_xup', 'e1_xup', 'a9_yup', 'n6_yup']\n"
     ]
    }
   ],
   "source": [
    "shortlist2=shortlist2.head(10)['feature'].tolist()\n",
    "print shortlist2"
   ]
  },
  {
   "cell_type": "markdown",
   "metadata": {},
   "source": [
    "# Merge shortlists"
   ]
  },
  {
   "cell_type": "code",
   "execution_count": 162,
   "metadata": {
    "collapsed": false
   },
   "outputs": [
    {
     "name": "stdout",
     "output_type": "stream",
     "text": [
      "['i5_yup', 'space3_ydown', 'n10_yup', 'space7_xup', 'space3_xup', 'a9_yup', 'space3_yup', 'n6_ydown', 'space7_xdown', 'h2_yup', 'm4_xdown', 'space7_yup', 'space3_xdown', 'm4_xup', 'e1_xup', 'n6_yup']\n"
     ]
    }
   ],
   "source": [
    "# print cols\n",
    "shortlist=unique(shortlist1 + shortlist2)\n",
    "print shortlist"
   ]
  },
  {
   "cell_type": "markdown",
   "metadata": {},
   "source": [
    "# New input data"
   ]
  },
  {
   "cell_type": "code",
   "execution_count": 163,
   "metadata": {
    "collapsed": false
   },
   "outputs": [
    {
     "name": "stdout",
     "output_type": "stream",
     "text": [
      "FILENAMES: []\n",
      "FILENAMES: ['data/test/changsheng/behminyan_1.csv', 'data/test/changsheng/behminyan_10.csv', 'data/test/changsheng/behminyan_11.csv', 'data/test/changsheng/behminyan_12.csv', 'data/test/changsheng/behminyan_13.csv', 'data/test/changsheng/behminyan_14.csv', 'data/test/changsheng/behminyan_15.csv', 'data/test/changsheng/behminyan_16.csv', 'data/test/changsheng/behminyan_17.csv', 'data/test/changsheng/behminyan_18.csv', 'data/test/changsheng/behminyan_19.csv', 'data/test/changsheng/behminyan_2.csv', 'data/test/changsheng/behminyan_20.csv', 'data/test/changsheng/behminyan_21.csv', 'data/test/changsheng/behminyan_22.csv', 'data/test/changsheng/behminyan_23.csv', 'data/test/changsheng/behminyan_24.csv', 'data/test/changsheng/behminyan_25.csv', 'data/test/changsheng/behminyan_26.csv', 'data/test/changsheng/behminyan_27.csv', 'data/test/changsheng/behminyan_28.csv', 'data/test/changsheng/behminyan_29.csv', 'data/test/changsheng/behminyan_3.csv', 'data/test/changsheng/behminyan_30.csv', 'data/test/changsheng/behminyan_31.csv', 'data/test/changsheng/behminyan_32.csv', 'data/test/changsheng/behminyan_33.csv', 'data/test/changsheng/behminyan_4.csv', 'data/test/changsheng/behminyan_5.csv', 'data/test/changsheng/behminyan_6.csv', 'data/test/changsheng/behminyan_7.csv', 'data/test/changsheng/behminyan_8.csv', 'data/test/changsheng/behminyan_9.csv']\n",
      "FILENAMES: []\n"
     ]
    }
   ],
   "source": [
    "df_rows = []\n",
    "cols=[\"text\",\"user\"]\n",
    "letters=\"\"\n",
    "\n",
    "for user in users:\n",
    "    filenames=glob.glob(\"data/test/\"+user+\"/\"+txt+\"*.csv\")\n",
    "    print 'FILENAMES:', filenames\n",
    "    \n",
    "    for filename in filenames:\n",
    "\n",
    "        input = pd.read_csv(filename)\n",
    "        userrow={}        \n",
    "        userrow['text'] = txt\n",
    "        userrow['user'] = user\n",
    "        \n",
    "        letters=input.letter\n",
    "        xdown=input.down_x\n",
    "        ydown=input.down_y\n",
    "        xup=input.up_x\n",
    "        yup=input.up_y\n",
    "        \n",
    "        for i in range(len(letters)):\n",
    "            if (letters[i]=='return'):\n",
    "                break\n",
    "            userrow[letters[i]+str(i)+'_xdown']=xdown[i]\n",
    "            userrow[letters[i]+str(i)+'_ydown']=ydown[i]\n",
    "            userrow[letters[i]+str(i)+'_xup']=xup[i]\n",
    "            userrow[letters[i]+str(i)+'_yup']=yup[i]\n",
    "            userrow[letters[i]+str(i)+'_b']=calcbearing((xdown[i],ydown[i]),(xup[i],yup[i]))\n",
    "\n",
    "        df_rows.append(userrow)\n",
    "    \n",
    "for i in range(len(letters)): # SOON TO CHANGE\n",
    "    if (letters[i]=='return'):\n",
    "        break\n",
    "    cols.append(letters[i]+str(i)+'_xdown')\n",
    "    cols.append(letters[i]+str(i)+'_ydown')\n",
    "    cols.append(letters[i]+str(i)+'_xup')\n",
    "    cols.append(letters[i]+str(i)+'_yup')\n",
    "    cols.append(letters[i]+str(i)+'_b')"
   ]
  },
  {
   "cell_type": "code",
   "execution_count": 164,
   "metadata": {
    "collapsed": false
   },
   "outputs": [
    {
     "data": {
      "text/html": [
       "<div>\n",
       "<table border=\"1\" class=\"dataframe\">\n",
       "  <thead>\n",
       "    <tr style=\"text-align: right;\">\n",
       "      <th></th>\n",
       "      <th>text</th>\n",
       "      <th>user</th>\n",
       "      <th>b0_xdown</th>\n",
       "      <th>b0_ydown</th>\n",
       "      <th>b0_xup</th>\n",
       "      <th>b0_yup</th>\n",
       "      <th>b0_b</th>\n",
       "      <th>e1_xdown</th>\n",
       "      <th>e1_ydown</th>\n",
       "      <th>e1_xup</th>\n",
       "      <th>...</th>\n",
       "      <th>a9_xdown</th>\n",
       "      <th>a9_ydown</th>\n",
       "      <th>a9_xup</th>\n",
       "      <th>a9_yup</th>\n",
       "      <th>a9_b</th>\n",
       "      <th>n10_xdown</th>\n",
       "      <th>n10_ydown</th>\n",
       "      <th>n10_xup</th>\n",
       "      <th>n10_yup</th>\n",
       "      <th>n10_b</th>\n",
       "    </tr>\n",
       "  </thead>\n",
       "  <tbody>\n",
       "    <tr>\n",
       "      <th>0</th>\n",
       "      <td>behminyan</td>\n",
       "      <td>changsheng</td>\n",
       "      <td>63.200000</td>\n",
       "      <td>66.504854</td>\n",
       "      <td>63.200000</td>\n",
       "      <td>66.504854</td>\n",
       "      <td>0</td>\n",
       "      <td>25.333333</td>\n",
       "      <td>20.873786</td>\n",
       "      <td>25.333333</td>\n",
       "      <td>...</td>\n",
       "      <td>8.800000</td>\n",
       "      <td>36.893204</td>\n",
       "      <td>8.800000</td>\n",
       "      <td>36.893204</td>\n",
       "      <td>0</td>\n",
       "      <td>68.8</td>\n",
       "      <td>63.592233</td>\n",
       "      <td>68.8</td>\n",
       "      <td>63.592233</td>\n",
       "      <td>0</td>\n",
       "    </tr>\n",
       "    <tr>\n",
       "      <th>1</th>\n",
       "      <td>behminyan</td>\n",
       "      <td>changsheng</td>\n",
       "      <td>61.066667</td>\n",
       "      <td>64.077670</td>\n",
       "      <td>61.066667</td>\n",
       "      <td>64.077670</td>\n",
       "      <td>0</td>\n",
       "      <td>23.200000</td>\n",
       "      <td>19.902913</td>\n",
       "      <td>23.200000</td>\n",
       "      <td>...</td>\n",
       "      <td>10.133333</td>\n",
       "      <td>42.718447</td>\n",
       "      <td>10.133333</td>\n",
       "      <td>42.718447</td>\n",
       "      <td>0</td>\n",
       "      <td>68.8</td>\n",
       "      <td>64.563107</td>\n",
       "      <td>68.8</td>\n",
       "      <td>64.563107</td>\n",
       "      <td>0</td>\n",
       "    </tr>\n",
       "    <tr>\n",
       "      <th>2</th>\n",
       "      <td>behminyan</td>\n",
       "      <td>changsheng</td>\n",
       "      <td>60.800000</td>\n",
       "      <td>66.504854</td>\n",
       "      <td>60.800000</td>\n",
       "      <td>66.504854</td>\n",
       "      <td>0</td>\n",
       "      <td>25.333333</td>\n",
       "      <td>12.621359</td>\n",
       "      <td>25.333333</td>\n",
       "      <td>...</td>\n",
       "      <td>13.066667</td>\n",
       "      <td>40.291262</td>\n",
       "      <td>13.066667</td>\n",
       "      <td>40.291262</td>\n",
       "      <td>0</td>\n",
       "      <td>68.8</td>\n",
       "      <td>61.650485</td>\n",
       "      <td>68.8</td>\n",
       "      <td>61.650485</td>\n",
       "      <td>0</td>\n",
       "    </tr>\n",
       "    <tr>\n",
       "      <th>3</th>\n",
       "      <td>behminyan</td>\n",
       "      <td>changsheng</td>\n",
       "      <td>61.866667</td>\n",
       "      <td>70.388350</td>\n",
       "      <td>61.866667</td>\n",
       "      <td>70.388350</td>\n",
       "      <td>0</td>\n",
       "      <td>26.666667</td>\n",
       "      <td>22.815534</td>\n",
       "      <td>26.666667</td>\n",
       "      <td>...</td>\n",
       "      <td>11.466667</td>\n",
       "      <td>39.320388</td>\n",
       "      <td>11.466667</td>\n",
       "      <td>39.320388</td>\n",
       "      <td>0</td>\n",
       "      <td>68.8</td>\n",
       "      <td>61.650485</td>\n",
       "      <td>68.8</td>\n",
       "      <td>61.650485</td>\n",
       "      <td>0</td>\n",
       "    </tr>\n",
       "    <tr>\n",
       "      <th>4</th>\n",
       "      <td>behminyan</td>\n",
       "      <td>changsheng</td>\n",
       "      <td>60.533333</td>\n",
       "      <td>64.077670</td>\n",
       "      <td>60.533333</td>\n",
       "      <td>64.077670</td>\n",
       "      <td>0</td>\n",
       "      <td>25.866667</td>\n",
       "      <td>18.446602</td>\n",
       "      <td>25.866667</td>\n",
       "      <td>...</td>\n",
       "      <td>12.533333</td>\n",
       "      <td>41.262136</td>\n",
       "      <td>12.533333</td>\n",
       "      <td>41.262136</td>\n",
       "      <td>0</td>\n",
       "      <td>65.6</td>\n",
       "      <td>61.165049</td>\n",
       "      <td>65.6</td>\n",
       "      <td>61.165049</td>\n",
       "      <td>0</td>\n",
       "    </tr>\n",
       "  </tbody>\n",
       "</table>\n",
       "<p>5 rows × 57 columns</p>\n",
       "</div>"
      ],
      "text/plain": [
       "        text        user   b0_xdown   b0_ydown     b0_xup     b0_yup  b0_b  \\\n",
       "0  behminyan  changsheng  63.200000  66.504854  63.200000  66.504854     0   \n",
       "1  behminyan  changsheng  61.066667  64.077670  61.066667  64.077670     0   \n",
       "2  behminyan  changsheng  60.800000  66.504854  60.800000  66.504854     0   \n",
       "3  behminyan  changsheng  61.866667  70.388350  61.866667  70.388350     0   \n",
       "4  behminyan  changsheng  60.533333  64.077670  60.533333  64.077670     0   \n",
       "\n",
       "    e1_xdown   e1_ydown     e1_xup  ...     a9_xdown   a9_ydown     a9_xup  \\\n",
       "0  25.333333  20.873786  25.333333  ...     8.800000  36.893204   8.800000   \n",
       "1  23.200000  19.902913  23.200000  ...    10.133333  42.718447  10.133333   \n",
       "2  25.333333  12.621359  25.333333  ...    13.066667  40.291262  13.066667   \n",
       "3  26.666667  22.815534  26.666667  ...    11.466667  39.320388  11.466667   \n",
       "4  25.866667  18.446602  25.866667  ...    12.533333  41.262136  12.533333   \n",
       "\n",
       "      a9_yup  a9_b  n10_xdown  n10_ydown  n10_xup    n10_yup  n10_b  \n",
       "0  36.893204     0       68.8  63.592233     68.8  63.592233      0  \n",
       "1  42.718447     0       68.8  64.563107     68.8  64.563107      0  \n",
       "2  40.291262     0       68.8  61.650485     68.8  61.650485      0  \n",
       "3  39.320388     0       68.8  61.650485     68.8  61.650485      0  \n",
       "4  41.262136     0       65.6  61.165049     65.6  61.165049      0  \n",
       "\n",
       "[5 rows x 57 columns]"
      ]
     },
     "execution_count": 164,
     "metadata": {},
     "output_type": "execute_result"
    }
   ],
   "source": [
    "newdata = pd.DataFrame(df_rows,columns=cols)\n",
    "newdata.head()"
   ]
  },
  {
   "cell_type": "markdown",
   "metadata": {},
   "source": [
    "# Make Summary"
   ]
  },
  {
   "cell_type": "code",
   "execution_count": 165,
   "metadata": {
    "collapsed": false
   },
   "outputs": [],
   "source": [
    "shortlist=['i5_yup', 'space3_ydown', 'n10_yup', 'space7_xup', 'space3_xup', 'a9_yup', 'space3_yup', 'n6_ydown', 'space7_xdown', 'h2_yup', 'm4_xdown', 'space7_yup', 'space3_xdown', 'm4_xup', 'e1_xup', 'n6_yup']\n",
    "shortlist.append('user')\n",
    "dataset=combined[shortlist].drop('user', axis=1).as_matrix(columns=None)\n",
    "labels=combined['user']"
   ]
  },
  {
   "cell_type": "code",
   "execution_count": 166,
   "metadata": {
    "collapsed": false
   },
   "outputs": [
    {
     "data": {
      "text/html": [
       "<div>\n",
       "<table border=\"1\" class=\"dataframe\">\n",
       "  <thead>\n",
       "    <tr style=\"text-align: right;\">\n",
       "      <th></th>\n",
       "      <th>i5_yup</th>\n",
       "      <th>space3_ydown</th>\n",
       "      <th>n10_yup</th>\n",
       "      <th>space7_xup</th>\n",
       "      <th>space3_xup</th>\n",
       "      <th>a9_yup</th>\n",
       "      <th>space3_yup</th>\n",
       "      <th>n6_ydown</th>\n",
       "      <th>space7_xdown</th>\n",
       "      <th>h2_yup</th>\n",
       "      <th>m4_xdown</th>\n",
       "      <th>space7_yup</th>\n",
       "      <th>space3_xdown</th>\n",
       "      <th>m4_xup</th>\n",
       "      <th>e1_xup</th>\n",
       "      <th>n6_yup</th>\n",
       "      <th>user</th>\n",
       "    </tr>\n",
       "  </thead>\n",
       "  <tbody>\n",
       "    <tr>\n",
       "      <th>0</th>\n",
       "      <td>13.592233</td>\n",
       "      <td>82.038835</td>\n",
       "      <td>63.592233</td>\n",
       "      <td>68.800000</td>\n",
       "      <td>62.666667</td>\n",
       "      <td>36.893204</td>\n",
       "      <td>82.038835</td>\n",
       "      <td>62.135922</td>\n",
       "      <td>68.800000</td>\n",
       "      <td>46.116505</td>\n",
       "      <td>80.800000</td>\n",
       "      <td>81.553398</td>\n",
       "      <td>62.666667</td>\n",
       "      <td>80.800000</td>\n",
       "      <td>25.333333</td>\n",
       "      <td>62.135922</td>\n",
       "      <td>changsheng</td>\n",
       "    </tr>\n",
       "    <tr>\n",
       "      <th>1</th>\n",
       "      <td>21.359223</td>\n",
       "      <td>83.009709</td>\n",
       "      <td>64.563107</td>\n",
       "      <td>69.066667</td>\n",
       "      <td>60.000000</td>\n",
       "      <td>42.718447</td>\n",
       "      <td>83.009709</td>\n",
       "      <td>61.650485</td>\n",
       "      <td>69.066667</td>\n",
       "      <td>49.029126</td>\n",
       "      <td>81.066667</td>\n",
       "      <td>80.582524</td>\n",
       "      <td>60.000000</td>\n",
       "      <td>81.066667</td>\n",
       "      <td>23.200000</td>\n",
       "      <td>61.650485</td>\n",
       "      <td>changsheng</td>\n",
       "    </tr>\n",
       "    <tr>\n",
       "      <th>2</th>\n",
       "      <td>17.475728</td>\n",
       "      <td>78.155340</td>\n",
       "      <td>61.650485</td>\n",
       "      <td>68.533333</td>\n",
       "      <td>57.600000</td>\n",
       "      <td>40.291262</td>\n",
       "      <td>78.155340</td>\n",
       "      <td>63.592233</td>\n",
       "      <td>68.533333</td>\n",
       "      <td>43.689320</td>\n",
       "      <td>81.600000</td>\n",
       "      <td>80.097087</td>\n",
       "      <td>57.600000</td>\n",
       "      <td>81.600000</td>\n",
       "      <td>25.333333</td>\n",
       "      <td>63.592233</td>\n",
       "      <td>changsheng</td>\n",
       "    </tr>\n",
       "    <tr>\n",
       "      <th>3</th>\n",
       "      <td>18.932039</td>\n",
       "      <td>82.524272</td>\n",
       "      <td>61.650485</td>\n",
       "      <td>66.133333</td>\n",
       "      <td>58.400000</td>\n",
       "      <td>39.320388</td>\n",
       "      <td>82.524272</td>\n",
       "      <td>61.650485</td>\n",
       "      <td>67.200000</td>\n",
       "      <td>45.145631</td>\n",
       "      <td>78.666667</td>\n",
       "      <td>79.126214</td>\n",
       "      <td>58.400000</td>\n",
       "      <td>78.666667</td>\n",
       "      <td>26.666667</td>\n",
       "      <td>61.650485</td>\n",
       "      <td>changsheng</td>\n",
       "    </tr>\n",
       "    <tr>\n",
       "      <th>4</th>\n",
       "      <td>21.359223</td>\n",
       "      <td>83.009709</td>\n",
       "      <td>61.165049</td>\n",
       "      <td>69.066667</td>\n",
       "      <td>57.600000</td>\n",
       "      <td>41.262136</td>\n",
       "      <td>83.009709</td>\n",
       "      <td>62.621359</td>\n",
       "      <td>69.066667</td>\n",
       "      <td>41.262136</td>\n",
       "      <td>79.466667</td>\n",
       "      <td>81.067961</td>\n",
       "      <td>57.600000</td>\n",
       "      <td>79.200000</td>\n",
       "      <td>25.866667</td>\n",
       "      <td>62.621359</td>\n",
       "      <td>changsheng</td>\n",
       "    </tr>\n",
       "  </tbody>\n",
       "</table>\n",
       "</div>"
      ],
      "text/plain": [
       "      i5_yup  space3_ydown    n10_yup  space7_xup  space3_xup     a9_yup  \\\n",
       "0  13.592233     82.038835  63.592233   68.800000   62.666667  36.893204   \n",
       "1  21.359223     83.009709  64.563107   69.066667   60.000000  42.718447   \n",
       "2  17.475728     78.155340  61.650485   68.533333   57.600000  40.291262   \n",
       "3  18.932039     82.524272  61.650485   66.133333   58.400000  39.320388   \n",
       "4  21.359223     83.009709  61.165049   69.066667   57.600000  41.262136   \n",
       "\n",
       "   space3_yup   n6_ydown  space7_xdown     h2_yup   m4_xdown  space7_yup  \\\n",
       "0   82.038835  62.135922     68.800000  46.116505  80.800000   81.553398   \n",
       "1   83.009709  61.650485     69.066667  49.029126  81.066667   80.582524   \n",
       "2   78.155340  63.592233     68.533333  43.689320  81.600000   80.097087   \n",
       "3   82.524272  61.650485     67.200000  45.145631  78.666667   79.126214   \n",
       "4   83.009709  62.621359     69.066667  41.262136  79.466667   81.067961   \n",
       "\n",
       "   space3_xdown     m4_xup     e1_xup     n6_yup        user  \n",
       "0     62.666667  80.800000  25.333333  62.135922  changsheng  \n",
       "1     60.000000  81.066667  23.200000  61.650485  changsheng  \n",
       "2     57.600000  81.600000  25.333333  63.592233  changsheng  \n",
       "3     58.400000  78.666667  26.666667  61.650485  changsheng  \n",
       "4     57.600000  79.200000  25.866667  62.621359  changsheng  "
      ]
     },
     "execution_count": 166,
     "metadata": {},
     "output_type": "execute_result"
    }
   ],
   "source": [
    "test=newdata[shortlist].drop('user', axis=1).as_matrix(columns=None)\n",
    "newdata[shortlist].head()"
   ]
  },
  {
   "cell_type": "code",
   "execution_count": 167,
   "metadata": {
    "collapsed": false
   },
   "outputs": [],
   "source": [
    "def separateByClass(dataset,labels):\n",
    "    separated = {}\n",
    "    for i in range(len(dataset)):\n",
    "        vector = dataset[i] # vector = row of data\n",
    "        label = labels[i]\n",
    "        if (label not in separated):\n",
    "            separated[label] = []\n",
    "        separated[label].append(vector)\n",
    "    return separated"
   ]
  },
  {
   "cell_type": "code",
   "execution_count": 168,
   "metadata": {
    "collapsed": false
   },
   "outputs": [],
   "source": [
    "sep=separateByClass(dataset,labels)\n",
    "# print sep"
   ]
  },
  {
   "cell_type": "code",
   "execution_count": 169,
   "metadata": {
    "collapsed": true
   },
   "outputs": [],
   "source": [
    "import math\n",
    "def mean(numbers):\n",
    "    return sum(numbers)/float(len(numbers))\n",
    " \n",
    "def stdev(numbers):\n",
    "    avg = mean(numbers)\n",
    "    variance = sum([pow(x-avg,2) for x in numbers])/float(len(numbers)-1)\n",
    "    return math.sqrt(variance)\n",
    "\n",
    "# numbers = [1,2,3,4,5]\n",
    "# print('Summary of {0}: mean={1}, stdev={2}').format(numbers, mean(numbers), stdev(numbers))"
   ]
  },
  {
   "cell_type": "code",
   "execution_count": 170,
   "metadata": {
    "collapsed": true
   },
   "outputs": [],
   "source": [
    "def summarize(dataset):\n",
    "    summaries = [(mean(attribute), stdev(attribute)) for attribute in zip(*dataset)]\n",
    "    return summaries"
   ]
  },
  {
   "cell_type": "code",
   "execution_count": 171,
   "metadata": {
    "collapsed": false
   },
   "outputs": [
    {
     "name": "stdout",
     "output_type": "stream",
     "text": [
      "Attribute summaries: [(14.392303258463002, 5.079312336251641), (85.20678350775502, 3.494018072945294), (63.597546697390001, 3.880517745678771), (61.959387755094987, 10.35866616803766), (60.049387755105023, 7.190552669961612), (39.188401750799997, 4.561991023722723), (85.212502476730009, 3.464114566116696), (62.040230920254999, 6.252954093843746), (61.959387755094987, 10.35866616803766), (37.583532971874995, 5.880788261046071), (80.291768707484991, 2.019277747861579), (85.004638218930012, 4.244402745894059), (59.927755102045012, 7.078652399040225), (80.181972789115008, 1.8599338952480577), (24.227006802724997, 2.1590733839055845), (62.040230920254999, 6.252954093843746)]\n"
     ]
    }
   ],
   "source": [
    "summary=summarize(dataset)\n",
    "print('Attribute summaries: {0}').format(summary)"
   ]
  },
  {
   "cell_type": "code",
   "execution_count": 172,
   "metadata": {
    "collapsed": true
   },
   "outputs": [],
   "source": [
    "def summarizeByClass(dataset,labels):\n",
    "    separated = separateByClass(dataset,labels)\n",
    "    summaries = {}\n",
    "    for classValue, instances in separated.iteritems():\n",
    "        summaries[classValue] = summarize(instances)\n",
    "    return summaries"
   ]
  },
  {
   "cell_type": "code",
   "execution_count": 173,
   "metadata": {
    "collapsed": false
   },
   "outputs": [
    {
     "name": "stdout",
     "output_type": "stream",
     "text": [
      "Summary by class value: {'behminyan': [(8.4230055658519998, 2.1380126591169866), (85.306122448980005, 0.6346059879795103), (58.330241187360002, 2.684082428791891), (66.204081632640012, 1.104683151237325), (67.224489795920007, 1.4846851111150423), (34.471243042659999, 3.3456962015037104), (85.231910946219998, 0.6097097115011855), (54.656771799599994, 1.9262853213139188), (66.204081632640012, 1.104683151237325), (30.204081632640005, 2.558683043875136), (79.367346938780003, 2.060365551481327), (79.777365491659992, 1.6749044606141301), (66.897959183680001, 1.1422192097040336), (79.367346938780003, 2.060365551481327), (26.95918367346, 0.6010888357456833), (54.656771799599994, 1.9262853213139188)], 'changsheng': [(17.912621359220001, 4.090043895274053), (82.621359223310009, 1.8421034913794512), (65.339805825219997, 1.9711899459830737), (68.47999999999999, 1.1845924443703244), (62.160000000009994, 1.309113355589619), (42.087378640759994, 2.195525164171797), (82.669902912639998, 1.8025919018409087), (63.932038834950006, 5.852372996244198), (68.47999999999999, 1.1845924443703244), (38.543689320379997, 4.385083413842356), (81.573333333340003, 1.5923272819697263), (85.000000000010004, 2.0138969018493067), (62.080000000010003, 1.29911650890322), (81.333333333339993, 1.399823622064891), (22.586666666669995, 1.3483597717525513), (63.932038834950006, 5.852372996244198)], 'jeremyong': [(13.32096474956, 1.8385141583387217), (90.27829313542, 1.0379666590403223), (65.380333951759994, 3.0558788430162283), (44.673469387739999, 1.7277773276360646), (48.653061224479998, 1.3035689324438005), (38.107606679020009, 5.150887775188156), (90.27829313542, 1.0379666590403223), (65.640074211520002, 3.414434870970706), (44.673469387739999, 1.7277773276360646), (43.042671614100001, 2.6139151769439573), (78.653061224480012, 0.9418759803060645), (90.241187384039989, 2.282079127535921), (48.653061224479998, 1.3035689324438005), (78.693877550999986, 0.9307554490257294), (24.775510204099998, 1.121056650343489), (65.640074211520002, 3.414434870970706)]}\n"
     ]
    }
   ],
   "source": [
    "summaries = summarizeByClass(dataset,labels)\n",
    "print('Summary by class value: {0}').format(summaries)"
   ]
  },
  {
   "cell_type": "code",
   "execution_count": 174,
   "metadata": {
    "collapsed": true
   },
   "outputs": [],
   "source": [
    "def calculateProbability(x, mean, stdev):\n",
    "    exponent = math.exp(-(math.pow(x-mean,2)/(2*math.pow(stdev,2))))\n",
    "    return (1 / (math.sqrt(2*math.pi) * stdev)) * exponent"
   ]
  },
  {
   "cell_type": "code",
   "execution_count": null,
   "metadata": {
    "collapsed": true
   },
   "outputs": [],
   "source": [
    "# x = 71.5\n",
    "# mean = 73\n",
    "# stdev = 6.2\n",
    "# probability = calculateProbability(x, mean, stdev)\n",
    "# print('Probability of belonging to this class: {0}').format(probability)"
   ]
  },
  {
   "cell_type": "code",
   "execution_count": 175,
   "metadata": {
    "collapsed": true
   },
   "outputs": [],
   "source": [
    "def calculateClassProbabilities(summaries, inputVector):\n",
    "    probabilities = {}\n",
    "    for classValue, classSummaries in summaries.iteritems():\n",
    "        probabilities[classValue] = 1\n",
    "        for i in range(len(classSummaries)):\n",
    "            mean, stdev = classSummaries[i]\n",
    "            x = inputVector[i]\n",
    "            \n",
    "            prob = calculateProbability(x, mean, stdev)\n",
    "            \n",
    "            if(prob != 0):\n",
    "                probabilities[classValue] *= math.log(prob)\n",
    "            \n",
    "            probabilities[classValue]=round(probabilities[classValue],2)\n",
    "    return probabilities"
   ]
  },
  {
   "cell_type": "code",
   "execution_count": 176,
   "metadata": {
    "collapsed": true
   },
   "outputs": [],
   "source": [
    "def predict(summaries, inputVector):\n",
    "    probabilities = calculateClassProbabilities(summaries, inputVector)\n",
    "    bestLabel, bestProb = None, -1\n",
    "    for classValue, probability in probabilities.iteritems():\n",
    "        if bestLabel is None or probability > bestProb:\n",
    "            bestProb = probability\n",
    "            bestLabel = classValue\n",
    "    return bestLabel"
   ]
  },
  {
   "cell_type": "code",
   "execution_count": 177,
   "metadata": {
    "collapsed": false
   },
   "outputs": [
    {
     "name": "stdout",
     "output_type": "stream",
     "text": [
      " jeremyong >>> {'behminyan': 281843171809.63, 'changsheng': 77602.88, 'jeremyong': 710284341183110.0}\n",
      " jeremyong >>> {'behminyan': 26800894313216.47, 'changsheng': 66622.42, 'jeremyong': 9109624775350936.0}\n",
      " jeremyong >>> {'behminyan': 252893502442661.94, 'changsheng': 12010454.58, 'jeremyong': 3774781258950110.5}\n",
      " jeremyong >>> {'behminyan': 27870263781.59, 'changsheng': 55159041.19, 'jeremyong': 91824146453069.81}\n",
      " jeremyong >>> {'behminyan': 1652028084653.6, 'changsheng': 5021732.41, 'jeremyong': 91185035330327.23}\n",
      " jeremyong >>> {'behminyan': 22072262910565.58, 'changsheng': 55079213.82, 'jeremyong': 1.439846379566133e+16}\n",
      " jeremyong >>> {'behminyan': 303849032767.49, 'changsheng': 3130525.88, 'jeremyong': 152246521274509.47}\n",
      " jeremyong >>> {'behminyan': 6717728913948.9, 'changsheng': 167907392.78, 'jeremyong': 377873059271003.4}\n",
      " behminyan >>> {'behminyan': 14015415975630.91, 'changsheng': 58190341.77, 'jeremyong': 1418629721876.52}\n",
      " jeremyong >>> {'behminyan': 2185725838699.3, 'changsheng': 815590.14, 'jeremyong': 4.299607041843158e+16}\n",
      " jeremyong >>> {'behminyan': 105216385280434.88, 'changsheng': 4926079.54, 'jeremyong': 1.5658702890120666e+16}\n",
      " jeremyong >>> {'behminyan': 5960373215305.52, 'changsheng': 77623.41, 'jeremyong': 1563223148588270.0}\n",
      " jeremyong >>> {'behminyan': 4953604979775.94, 'changsheng': 95158563.55, 'jeremyong': 1270906874859833.5}\n",
      " jeremyong >>> {'behminyan': 100318175648551.95, 'changsheng': 20515883.81, 'jeremyong': 1.2802247488607916e+16}\n",
      " jeremyong >>> {'behminyan': 315268583715733.9, 'changsheng': 23959752.05, 'jeremyong': 1.5398361245745078e+18}\n",
      " jeremyong >>> {'behminyan': 1085049978453259.4, 'changsheng': 22052301.21, 'jeremyong': 1955770447414777.2}\n",
      " jeremyong >>> {'behminyan': 4329345271668.56, 'changsheng': 2846676.31, 'jeremyong': 1.5955462450619862e+16}\n",
      " jeremyong >>> {'behminyan': 9454241804650.64, 'changsheng': 62568405.75, 'jeremyong': 3384207783721136.5}\n",
      " jeremyong >>> {'behminyan': 319208246627783.56, 'changsheng': 78813038.45, 'jeremyong': 6.384307622182204e+17}\n",
      " jeremyong >>> {'behminyan': 3813936283998.71, 'changsheng': 12590131.04, 'jeremyong': 2.0174744821908668e+16}\n",
      " jeremyong >>> {'behminyan': 1170342049.41, 'changsheng': 970663.55, 'jeremyong': 39703766552214.91}\n",
      " jeremyong >>> {'behminyan': 1005846448787275.6, 'changsheng': 1078632.7, 'jeremyong': 1.2106278912040744e+16}\n",
      " jeremyong >>> {'behminyan': 17527621841183.82, 'changsheng': 676710.13, 'jeremyong': 44770666896525.3}\n",
      " jeremyong >>> {'behminyan': 26422794461632.47, 'changsheng': 7751245.5, 'jeremyong': 8918565387480665.0}\n",
      " jeremyong >>> {'behminyan': 200066767.32, 'changsheng': 614301487.47, 'jeremyong': 36505978591974.39}\n",
      " jeremyong >>> {'behminyan': 1139054795130.13, 'changsheng': 1131862.39, 'jeremyong': 351710939180775.0}\n",
      " jeremyong >>> {'behminyan': 2109661623679967.2, 'changsheng': 1484497.33, 'jeremyong': 1.2162829733574598e+16}\n",
      " jeremyong >>> {'behminyan': 263322184685433.4, 'changsheng': 13608219.54, 'jeremyong': 2.2609195739507692e+16}\n",
      " jeremyong >>> {'behminyan': 15547025389874.42, 'changsheng': 4289173.93, 'jeremyong': 1.0022386982570733e+17}\n",
      " jeremyong >>> {'behminyan': 12136388653181.51, 'changsheng': 17821857.14, 'jeremyong': 713748557170241.6}\n",
      " jeremyong >>> {'behminyan': 15427949364.59, 'changsheng': 3360863.23, 'jeremyong': 14556509952148.77}\n",
      " behminyan >>> {'behminyan': 67524965054958.15, 'changsheng': 135726281.11, 'jeremyong': 54858334557.19}\n",
      " jeremyong >>> {'behminyan': 127582748070.86, 'changsheng': 1958191.62, 'jeremyong': 4036404005023055.5}\n",
      "Accuracy >>> 0.0\n"
     ]
    }
   ],
   "source": [
    "total=0\n",
    "correct=0\n",
    "for i in range(len(test)):\n",
    "    total+=1\n",
    "    testcase = test[i]\n",
    "    result = predict(summaries, testcase)\n",
    "    if(result=='changsheng'):\n",
    "        correct+=1\n",
    "    print(' {0} >>> {1}').format(result, calculateClassProbabilities(summaries, testcase))\n",
    "print ('Accuracy >>> {0}').format(round(correct*100.0/total,4))"
   ]
  },
  {
   "cell_type": "code",
   "execution_count": null,
   "metadata": {
    "collapsed": true
   },
   "outputs": [],
   "source": []
  }
 ],
 "metadata": {
  "kernelspec": {
   "display_name": "Python 2",
   "language": "python",
   "name": "python2"
  },
  "language_info": {
   "codemirror_mode": {
    "name": "ipython",
    "version": 2
   },
   "file_extension": ".py",
   "mimetype": "text/x-python",
   "name": "python",
   "nbconvert_exporter": "python",
   "pygments_lexer": "ipython2",
   "version": "2.7.12"
  }
 },
 "nbformat": 4,
 "nbformat_minor": 0
}
