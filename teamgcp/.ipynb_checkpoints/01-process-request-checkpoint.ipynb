{
 "cells": [
  {
   "cell_type": "code",
   "execution_count": 42,
   "metadata": {
    "collapsed": true
   },
   "outputs": [],
   "source": [
    "import numpy as np\n",
    "import pandas as pd\n",
    "\n",
    "import ast\n",
    "import glob\n",
    "import re\n",
    "\n",
    "user='changsheng'"
   ]
  },
  {
   "cell_type": "code",
   "execution_count": 43,
   "metadata": {
    "collapsed": false
   },
   "outputs": [
    {
     "name": "stdout",
     "output_type": "stream",
     "text": [
      "FILENAMES: ['data/train/changsheng/behminyan_1.txt', 'data/train/changsheng/behminyan_10.txt', 'data/train/changsheng/behminyan_11.txt', 'data/train/changsheng/behminyan_12.txt', 'data/train/changsheng/behminyan_13.txt', 'data/train/changsheng/behminyan_14.txt', 'data/train/changsheng/behminyan_15.txt', 'data/train/changsheng/behminyan_16.txt', 'data/train/changsheng/behminyan_17.txt', 'data/train/changsheng/behminyan_18.txt', 'data/train/changsheng/behminyan_19.txt', 'data/train/changsheng/behminyan_2.txt', 'data/train/changsheng/behminyan_20.txt', 'data/train/changsheng/behminyan_21.txt', 'data/train/changsheng/behminyan_22.txt', 'data/train/changsheng/behminyan_23.txt', 'data/train/changsheng/behminyan_24.txt', 'data/train/changsheng/behminyan_25.txt', 'data/train/changsheng/behminyan_26.txt', 'data/train/changsheng/behminyan_27.txt', 'data/train/changsheng/behminyan_28.txt', 'data/train/changsheng/behminyan_29.txt', 'data/train/changsheng/behminyan_3.txt', 'data/train/changsheng/behminyan_30.txt', 'data/train/changsheng/behminyan_31.txt', 'data/train/changsheng/behminyan_32.txt', 'data/train/changsheng/behminyan_33.txt', 'data/train/changsheng/behminyan_4.txt', 'data/train/changsheng/behminyan_5.txt', 'data/train/changsheng/behminyan_6.txt', 'data/train/changsheng/behminyan_7.txt', 'data/train/changsheng/behminyan_8.txt', 'data/train/changsheng/behminyan_9.txt']\n"
     ]
    }
   ],
   "source": [
    "# http://stackoverflow.com/ questions/3207219/how-to-list-all-files-of-a-directory-in-python\n",
    "filenames=glob.glob(\"data/train/\"+user+\"/*.txt\")\n",
    "print 'FILENAMES:', filenames"
   ]
  },
  {
   "cell_type": "code",
   "execution_count": 44,
   "metadata": {
    "collapsed": false
   },
   "outputs": [
    {
     "name": "stdout",
     "output_type": "stream",
     "text": [
      "False , changsheng , behminyan\n",
      "False , changsheng , behminyan\n",
      "False , changsheng , behminyan\n",
      "False , changsheng , behminyan\n",
      "False , changsheng , behminyan\n",
      "False , changsheng , behminyan\n",
      "False , changsheng , behminyan\n",
      "False , changsheng , behminyan\n",
      "False , changsheng , behminyan\n",
      "False , changsheng , behminyan\n",
      "False , changsheng , behminyan\n",
      "False , changsheng , behminyan\n",
      "False , changsheng , behminyan\n",
      "False , changsheng , behminyan\n",
      "False , changsheng , behminyan\n",
      "False , changsheng , behminyan\n",
      "False , changsheng , behminyan\n",
      "False , changsheng , behminyan\n",
      "False , changsheng , behminyan\n",
      "False , changsheng , behminyan\n",
      "False , changsheng , behminyan\n",
      "False , changsheng , behminyan\n",
      "False , changsheng , behminyan\n",
      "False , changsheng , behminyan\n",
      "False , changsheng , behminyan\n",
      "False , changsheng , behminyan\n",
      "False , changsheng , behminyan\n",
      "False , changsheng , behminyan\n",
      "False , changsheng , behminyan\n",
      "False , changsheng , behminyan\n",
      "False , changsheng , behminyan\n",
      "False , changsheng , behminyan\n",
      "False , changsheng , behminyan\n"
     ]
    }
   ],
   "source": [
    "for filename in filenames:\n",
    "    cols=['letter','username','down_time','down_x','down_y','up_time','up_x','up_y']\n",
    "    datarows=[]\n",
    "\n",
    "    with open(filename) as f: \n",
    "        for submit in f:\n",
    "            json=ast.literal_eval(submit)\n",
    "\n",
    "            inputtext=json['text'].replace(\" \", \"\")\n",
    "            username=user\n",
    "#             username=json['id'].replace(\" \", \"\").lower()\n",
    "            isGenuine=username==inputtext\n",
    "            print isGenuine, \",\", username, \",\", inputtext\n",
    "\n",
    "\n",
    "            for i in range(len(json['data'])):\n",
    "                key=json['data'][i]\n",
    "                datarow={}\n",
    "\n",
    "                datarow['letter']=key['letter']\n",
    "                datarow['username']=username\n",
    "                datarow['down_time']=key['down']['time']\n",
    "                datarow['down_x']=key['down']['x']\n",
    "                datarow['down_y']=key['down']['y']\n",
    "                datarow['up_time']=key['up']['time']\n",
    "                datarow['up_x']=key['up']['x']\n",
    "                datarow['up_y']=key['up']['y']\n",
    "\n",
    "                datarows.append(datarow)\n",
    "    df = pd.DataFrame(datarows, columns=cols)\n",
    "    \n",
    "    outputfile = filename[:filename.rfind('.')] + \".csv\"\n",
    "    df.sort_values(by=['up_time']).to_csv(path_or_buf=outputfile,index=False)"
   ]
  },
  {
   "cell_type": "code",
   "execution_count": 45,
   "metadata": {
    "collapsed": false
   },
   "outputs": [
    {
     "data": {
      "text/html": [
       "<div>\n",
       "<table border=\"1\" class=\"dataframe\">\n",
       "  <thead>\n",
       "    <tr style=\"text-align: right;\">\n",
       "      <th></th>\n",
       "      <th>letter</th>\n",
       "      <th>username</th>\n",
       "      <th>down_time</th>\n",
       "      <th>down_x</th>\n",
       "      <th>down_y</th>\n",
       "      <th>up_time</th>\n",
       "      <th>up_x</th>\n",
       "      <th>up_y</th>\n",
       "    </tr>\n",
       "  </thead>\n",
       "  <tbody>\n",
       "    <tr>\n",
       "      <th>0</th>\n",
       "      <td>b</td>\n",
       "      <td>changsheng</td>\n",
       "      <td>1469828346709</td>\n",
       "      <td>61.600000</td>\n",
       "      <td>65.048544</td>\n",
       "      <td>1469828346809</td>\n",
       "      <td>61.600000</td>\n",
       "      <td>65.048544</td>\n",
       "    </tr>\n",
       "    <tr>\n",
       "      <th>1</th>\n",
       "      <td>e</td>\n",
       "      <td>changsheng</td>\n",
       "      <td>1469828346759</td>\n",
       "      <td>22.933333</td>\n",
       "      <td>16.019417</td>\n",
       "      <td>1469828346910</td>\n",
       "      <td>22.933333</td>\n",
       "      <td>16.019417</td>\n",
       "    </tr>\n",
       "    <tr>\n",
       "      <th>2</th>\n",
       "      <td>h</td>\n",
       "      <td>changsheng</td>\n",
       "      <td>1469828346910</td>\n",
       "      <td>58.133333</td>\n",
       "      <td>31.553398</td>\n",
       "      <td>1469828346958</td>\n",
       "      <td>58.133333</td>\n",
       "      <td>31.553398</td>\n",
       "    </tr>\n",
       "    <tr>\n",
       "      <th>3</th>\n",
       "      <td>space</td>\n",
       "      <td>changsheng</td>\n",
       "      <td>1469828347108</td>\n",
       "      <td>56.000000</td>\n",
       "      <td>82.524272</td>\n",
       "      <td>1469828347175</td>\n",
       "      <td>56.000000</td>\n",
       "      <td>82.524272</td>\n",
       "    </tr>\n",
       "    <tr>\n",
       "      <th>4</th>\n",
       "      <td>m</td>\n",
       "      <td>changsheng</td>\n",
       "      <td>1469828347442</td>\n",
       "      <td>81.866667</td>\n",
       "      <td>60.194175</td>\n",
       "      <td>1469828347525</td>\n",
       "      <td>80.000000</td>\n",
       "      <td>60.194175</td>\n",
       "    </tr>\n",
       "    <tr>\n",
       "      <th>5</th>\n",
       "      <td>i</td>\n",
       "      <td>changsheng</td>\n",
       "      <td>1469828347709</td>\n",
       "      <td>73.333333</td>\n",
       "      <td>11.650485</td>\n",
       "      <td>1469828347774</td>\n",
       "      <td>72.266667</td>\n",
       "      <td>16.019417</td>\n",
       "    </tr>\n",
       "    <tr>\n",
       "      <th>6</th>\n",
       "      <td>n</td>\n",
       "      <td>changsheng</td>\n",
       "      <td>1469828347892</td>\n",
       "      <td>70.133333</td>\n",
       "      <td>56.310680</td>\n",
       "      <td>1469828347959</td>\n",
       "      <td>70.133333</td>\n",
       "      <td>56.310680</td>\n",
       "    </tr>\n",
       "    <tr>\n",
       "      <th>7</th>\n",
       "      <td>space</td>\n",
       "      <td>changsheng</td>\n",
       "      <td>1469828348125</td>\n",
       "      <td>68.000000</td>\n",
       "      <td>80.582524</td>\n",
       "      <td>1469828348192</td>\n",
       "      <td>68.000000</td>\n",
       "      <td>80.582524</td>\n",
       "    </tr>\n",
       "    <tr>\n",
       "      <th>8</th>\n",
       "      <td>y</td>\n",
       "      <td>changsheng</td>\n",
       "      <td>1469828348342</td>\n",
       "      <td>54.666667</td>\n",
       "      <td>19.417476</td>\n",
       "      <td>1469828348424</td>\n",
       "      <td>54.666667</td>\n",
       "      <td>19.417476</td>\n",
       "    </tr>\n",
       "    <tr>\n",
       "      <th>9</th>\n",
       "      <td>a</td>\n",
       "      <td>changsheng</td>\n",
       "      <td>1469828348475</td>\n",
       "      <td>13.600000</td>\n",
       "      <td>41.747573</td>\n",
       "      <td>1469828348591</td>\n",
       "      <td>13.600000</td>\n",
       "      <td>41.747573</td>\n",
       "    </tr>\n",
       "    <tr>\n",
       "      <th>10</th>\n",
       "      <td>n</td>\n",
       "      <td>changsheng</td>\n",
       "      <td>1469828348609</td>\n",
       "      <td>70.133333</td>\n",
       "      <td>64.077670</td>\n",
       "      <td>1469828348675</td>\n",
       "      <td>70.133333</td>\n",
       "      <td>64.077670</td>\n",
       "    </tr>\n",
       "  </tbody>\n",
       "</table>\n",
       "</div>"
      ],
      "text/plain": [
       "   letter    username      down_time     down_x     down_y        up_time  \\\n",
       "0       b  changsheng  1469828346709  61.600000  65.048544  1469828346809   \n",
       "1       e  changsheng  1469828346759  22.933333  16.019417  1469828346910   \n",
       "2       h  changsheng  1469828346910  58.133333  31.553398  1469828346958   \n",
       "3   space  changsheng  1469828347108  56.000000  82.524272  1469828347175   \n",
       "4       m  changsheng  1469828347442  81.866667  60.194175  1469828347525   \n",
       "5       i  changsheng  1469828347709  73.333333  11.650485  1469828347774   \n",
       "6       n  changsheng  1469828347892  70.133333  56.310680  1469828347959   \n",
       "7   space  changsheng  1469828348125  68.000000  80.582524  1469828348192   \n",
       "8       y  changsheng  1469828348342  54.666667  19.417476  1469828348424   \n",
       "9       a  changsheng  1469828348475  13.600000  41.747573  1469828348591   \n",
       "10      n  changsheng  1469828348609  70.133333  64.077670  1469828348675   \n",
       "\n",
       "         up_x       up_y  \n",
       "0   61.600000  65.048544  \n",
       "1   22.933333  16.019417  \n",
       "2   58.133333  31.553398  \n",
       "3   56.000000  82.524272  \n",
       "4   80.000000  60.194175  \n",
       "5   72.266667  16.019417  \n",
       "6   70.133333  56.310680  \n",
       "7   68.000000  80.582524  \n",
       "8   54.666667  19.417476  \n",
       "9   13.600000  41.747573  \n",
       "10  70.133333  64.077670  "
      ]
     },
     "execution_count": 45,
     "metadata": {},
     "output_type": "execute_result"
    }
   ],
   "source": [
    "df"
   ]
  },
  {
   "cell_type": "code",
   "execution_count": 41,
   "metadata": {
    "collapsed": true
   },
   "outputs": [],
   "source": [
    "string='{\"imposter\": \"false\", \"data\": [{\"down\": {\"y\": 63.07977736549165, \"x\": 61.0204081632653, \"time\": 1469802323657}, \"up\": {\"y\": 63.07977736549165, \"x\": 61.0204081632653, \"time\": 1469802323757}, \"letter\": \"b\"}, {\"down\": {\"y\": 14.656771799628942, \"x\": 26.632653061224488, \"time\": 1469802323775}, \"up\": {\"y\": 14.656771799628942, \"x\": 26.632653061224488, \"time\": 1469802323840}, \"letter\": \"e\"}, {\"down\": {\"y\": 29.12801484230056, \"x\": 60.51020408163266, \"time\": 1469802323925}, \"up\": {\"y\": 29.12801484230056, \"x\": 60.51020408163266, \"time\": 1469802323990}, \"letter\": \"h\"}, {\"down\": {\"y\": 85.52875695732838, \"x\": 67.75510204081633, \"time\": 1469802324108}, \"up\": {\"y\": 85.34322820037106, \"x\": 68.57142857142857, \"time\": 1469802324191}, \"letter\": \"space\"}, {\"down\": {\"y\": 60.85343228200371, \"x\": 81.53061224489797, \"time\": 1469802324325}, \"up\": {\"y\": 60.85343228200371, \"x\": 81.53061224489797, \"time\": 1469802324391}, \"letter\": \"m\"}, {\"down\": {\"y\": 10.760667903525047, \"x\": 75.51020408163265, \"time\": 1469802324525}, \"up\": {\"y\": 10.760667903525047, \"x\": 75.51020408163265, \"time\": 1469802324590}, \"letter\": \"i\"}, {\"down\": {\"y\": 53.80333951762524, \"x\": 72.95918367346938, \"time\": 1469802324708}, \"up\": {\"y\": 53.80333951762524, \"x\": 72.95918367346938, \"time\": 1469802324757}, \"letter\": \"n\"}, {\"down\": {\"y\": 79.96289424860854, \"x\": 67.3469387755102, \"time\": 1469802324875}, \"up\": {\"y\": 79.96289424860854, \"x\": 67.3469387755102, \"time\": 1469802324940}, \"letter\": \"space\"}, {\"down\": {\"y\": 11.50278293135436, \"x\": 58.77551020408164, \"time\": 1469802325092}, \"up\": {\"y\": 11.50278293135436, \"x\": 58.77551020408164, \"time\": 1469802325157}, \"letter\": \"y\"}, {\"down\": {\"y\": 37.291280148423006, \"x\": 8.16326530612245, \"time\": 1469802325208}, \"up\": {\"y\": 37.291280148423006, \"x\": 8.16326530612245, \"time\": 1469802325290}, \"letter\": \"a\"}, {\"down\": {\"y\": 56.77179962894249, \"x\": 66.83673469387756, \"time\": 1469802325342}, \"up\": {\"y\": 56.77179962894249, \"x\": 66.83673469387756, \"time\": 1469802325407}, \"letter\": \"n\"}, {\"down\": {\"y\": 86.08534322820037, \"x\": 85, \"time\": 1469802325591}, \"up\": {\"y\": 86.08534322820037, \"x\": 85, \"time\": 1469802325674}, \"letter\": \"return\"}], \"id\": \"1\", \"text\": \"beh min yan\"}'"
   ]
  },
  {
   "cell_type": "code",
   "execution_count": 11,
   "metadata": {
    "collapsed": true
   },
   "outputs": [],
   "source": [
    "with open(\"test.txt\", \"w\") as writefile:\n",
    "    writefile.write(string)"
   ]
  },
  {
   "cell_type": "code",
   "execution_count": null,
   "metadata": {
    "collapsed": true
   },
   "outputs": [],
   "source": []
  }
 ],
 "metadata": {
  "kernelspec": {
   "display_name": "Python 2",
   "language": "python",
   "name": "python2"
  },
  "language_info": {
   "codemirror_mode": {
    "name": "ipython",
    "version": 2
   },
   "file_extension": ".py",
   "mimetype": "text/x-python",
   "name": "python",
   "nbconvert_exporter": "python",
   "pygments_lexer": "ipython2",
   "version": "2.7.12"
  }
 },
 "nbformat": 4,
 "nbformat_minor": 0
}
