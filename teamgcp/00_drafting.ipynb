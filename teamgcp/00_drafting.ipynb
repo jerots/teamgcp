{
 "cells": [
  {
   "cell_type": "code",
   "execution_count": null,
   "metadata": {
    "collapsed": false
   },
   "outputs": [],
   "source": [
    "import numpy as np\n",
    "import pandas as pd"
   ]
  },
  {
   "cell_type": "code",
   "execution_count": 190,
   "metadata": {
    "collapsed": true
   },
   "outputs": [],
   "source": [
    "filenames=['test.csv']"
   ]
  },
  {
   "cell_type": "code",
   "execution_count": 104,
   "metadata": {
    "collapsed": false
   },
   "outputs": [
    {
     "name": "stdout",
     "output_type": "stream",
     "text": [
      "USERNAMES: ['behminyan', 'changsheng', 'jerots']\n"
     ]
    }
   ],
   "source": [
    "users=[]\n",
    "for filename in filenames:\n",
    "    username = re.match(r\"(.+)_(.+).csv\", filename).groups()[1]\n",
    "    users.append(username)\n",
    "print 'USERNAMES:', users"
   ]
  },
  {
   "cell_type": "code",
   "execution_count": 191,
   "metadata": {
    "collapsed": false
   },
   "outputs": [],
   "source": [
    "def extractDurations(table):\n",
    "    letters=input.letter\n",
    "    DTs=input.DT\n",
    "    UTs=input.UT\n",
    "\n",
    "    HDlist=[]\n",
    "    UDDlist=[]\n",
    "\n",
    "    for i in range(len(input)):\n",
    "        holddur=UTs[i]-DTs[i]\n",
    "        HDlist.append(holddur)\n",
    "\n",
    "        if(i< len(input)-1):\n",
    "            updowndur=DTs[i+1]-UTs[i]\n",
    "            UDDlist.append(updowndur)\n",
    "        else:\n",
    "            UDDlist.append(0)\n",
    "\n",
    "    return letters, HDlist, UDDlist"
   ]
  },
  {
   "cell_type": "code",
   "execution_count": 193,
   "metadata": {
    "collapsed": false
   },
   "outputs": [
    {
     "name": "stdout",
     "output_type": "stream",
     "text": [
      "USERNAMES: ['behminyan']\n"
     ]
    }
   ],
   "source": [
    "users=[]\n",
    "df_rows = []\n",
    "\n",
    "for filename in filenames:\n",
    "\n",
    "    input = pd.read_csv(filename)\n",
    "    letters, HDlist, UDDlist = extractDurations(input)\n",
    "    \n",
    "    username='behminyan'\n",
    "#     username = re.match(r\"(.+)_(.+).csv\", filename).groups()[1]\n",
    "\n",
    "    userrow={}\n",
    "    userrow['users'] = username\n",
    "    for i in range(len(letters)):\n",
    "        userrow['hd'+str(i)+'_'+letters[i]]=HDlist[i]\n",
    "        userrow['udd'+str(i)+'_'+letters[i]]=UDDlist[i]\n",
    "    df_rows.append(userrow)\n",
    "    users.append(username)\n",
    "\n",
    "combined = pd.DataFrame(df_rows,columns=cols)\n",
    "combined\n",
    "\n",
    "print 'USERNAMES:', users"
   ]
  },
  {
   "cell_type": "code",
   "execution_count": 194,
   "metadata": {
    "collapsed": false
   },
   "outputs": [
    {
     "data": {
      "text/html": [
       "<div>\n",
       "<table border=\"1\" class=\"dataframe\">\n",
       "  <thead>\n",
       "    <tr style=\"text-align: right;\">\n",
       "      <th></th>\n",
       "      <th>users</th>\n",
       "      <th>hd0_b</th>\n",
       "      <th>udd0_b</th>\n",
       "      <th>hd1_e</th>\n",
       "      <th>udd1_e</th>\n",
       "      <th>hd2_h</th>\n",
       "      <th>udd2_h</th>\n",
       "      <th>hd3_m</th>\n",
       "      <th>udd3_m</th>\n",
       "      <th>hd4_i</th>\n",
       "      <th>udd4_i</th>\n",
       "      <th>hd5_n</th>\n",
       "      <th>udd5_n</th>\n",
       "      <th>hd6_y</th>\n",
       "      <th>udd6_y</th>\n",
       "      <th>hd7_a</th>\n",
       "      <th>udd7_a</th>\n",
       "      <th>hd8_n</th>\n",
       "      <th>udd8_n</th>\n",
       "    </tr>\n",
       "  </thead>\n",
       "  <tbody>\n",
       "    <tr>\n",
       "      <th>0</th>\n",
       "      <td>behminyan</td>\n",
       "      <td>200</td>\n",
       "      <td>-32</td>\n",
       "      <td>200</td>\n",
       "      <td>-33</td>\n",
       "      <td>200</td>\n",
       "      <td>33</td>\n",
       "      <td>NaN</td>\n",
       "      <td>NaN</td>\n",
       "      <td>NaN</td>\n",
       "      <td>NaN</td>\n",
       "      <td>NaN</td>\n",
       "      <td>NaN</td>\n",
       "      <td>NaN</td>\n",
       "      <td>NaN</td>\n",
       "      <td>NaN</td>\n",
       "      <td>NaN</td>\n",
       "      <td>NaN</td>\n",
       "      <td>NaN</td>\n",
       "    </tr>\n",
       "  </tbody>\n",
       "</table>\n",
       "</div>"
      ],
      "text/plain": [
       "       users  hd0_b  udd0_b  hd1_e  udd1_e  hd2_h  udd2_h  hd3_m  udd3_m  \\\n",
       "0  behminyan    200     -32    200     -33    200      33    NaN     NaN   \n",
       "\n",
       "   hd4_i  udd4_i  hd5_n  udd5_n  hd6_y  udd6_y  hd7_a  udd7_a  hd8_n  udd8_n  \n",
       "0    NaN     NaN    NaN     NaN    NaN     NaN    NaN     NaN    NaN     NaN  "
      ]
     },
     "execution_count": 194,
     "metadata": {},
     "output_type": "execute_result"
    }
   ],
   "source": [
    "combined"
   ]
  },
  {
   "cell_type": "code",
   "execution_count": 119,
   "metadata": {
    "collapsed": false
   },
   "outputs": [
    {
     "data": {
      "text/plain": [
       "3"
      ]
     },
     "execution_count": 119,
     "metadata": {},
     "output_type": "execute_result"
    }
   ],
   "source": [
    "len(users)"
   ]
  },
  {
   "cell_type": "code",
   "execution_count": 135,
   "metadata": {
    "collapsed": false
   },
   "outputs": [
    {
     "name": "stdout",
     "output_type": "stream",
     "text": [
      "['users', 'hd0_b', 'udd0_b', 'hd1_e', 'udd1_e', 'hd2_h', 'udd2_h', 'hd3_m', 'udd3_m', 'hd4_i', 'udd4_i', 'hd5_n', 'udd5_n', 'hd6_y', 'udd6_y', 'hd7_a', 'udd7_a', 'hd8_n', 'udd8_n']\n"
     ]
    }
   ],
   "source": [
    "print cols"
   ]
  },
  {
   "cell_type": "code",
   "execution_count": 112,
   "metadata": {
    "collapsed": false
   },
   "outputs": [
    {
     "data": {
      "text/plain": [
       "[{'hd0_b': 123,\n",
       "  'hd1_e': 132,\n",
       "  'hd2_h': 123,\n",
       "  'hd3_m': 132,\n",
       "  'hd4_i': 123,\n",
       "  'hd5_n': 132,\n",
       "  'hd6_y': 123,\n",
       "  'hd7_a': 132,\n",
       "  'hd8_n': 123,\n",
       "  'udd0_b': 100,\n",
       "  'udd1_e': 200,\n",
       "  'udd2_h': 300,\n",
       "  'udd3_m': 100,\n",
       "  'udd4_i': 200,\n",
       "  'udd5_n': 300,\n",
       "  'udd6_y': 100,\n",
       "  'udd7_a': 200,\n",
       "  'udd8_n': 0,\n",
       "  'users': 'behminyan'},\n",
       " {'hd0_b': 123,\n",
       "  'hd1_e': 132,\n",
       "  'hd2_h': 123,\n",
       "  'hd3_m': 132,\n",
       "  'hd4_i': 123,\n",
       "  'hd5_n': 132,\n",
       "  'hd6_y': 123,\n",
       "  'hd7_a': 132,\n",
       "  'hd8_n': 123,\n",
       "  'udd0_b': 100,\n",
       "  'udd1_e': 200,\n",
       "  'udd2_h': 300,\n",
       "  'udd3_m': 100,\n",
       "  'udd4_i': 200,\n",
       "  'udd5_n': 300,\n",
       "  'udd6_y': 100,\n",
       "  'udd7_a': 200,\n",
       "  'udd8_n': 0,\n",
       "  'users': 'changsheng'},\n",
       " {'hd0_b': 123,\n",
       "  'hd1_e': 132,\n",
       "  'hd2_h': 123,\n",
       "  'hd3_m': 132,\n",
       "  'hd4_i': 123,\n",
       "  'hd5_n': 132,\n",
       "  'hd6_y': 123,\n",
       "  'hd7_a': 132,\n",
       "  'hd8_n': 123,\n",
       "  'udd0_b': 100,\n",
       "  'udd1_e': 200,\n",
       "  'udd2_h': 300,\n",
       "  'udd3_m': 100,\n",
       "  'udd4_i': 200,\n",
       "  'udd5_n': 300,\n",
       "  'udd6_y': 100,\n",
       "  'udd7_a': 200,\n",
       "  'udd8_n': 0,\n",
       "  'users': 'jerots'}]"
      ]
     },
     "execution_count": 112,
     "metadata": {},
     "output_type": "execute_result"
    }
   ],
   "source": [
    "df_rows"
   ]
  },
  {
   "cell_type": "code",
   "execution_count": 63,
   "metadata": {
    "collapsed": false
   },
   "outputs": [
    {
     "data": {
      "text/html": [
       "<div>\n",
       "<table border=\"1\" class=\"dataframe\">\n",
       "  <thead>\n",
       "    <tr style=\"text-align: right;\">\n",
       "      <th></th>\n",
       "      <th>letter</th>\n",
       "      <th>HD</th>\n",
       "      <th>UDD</th>\n",
       "    </tr>\n",
       "  </thead>\n",
       "  <tbody>\n",
       "    <tr>\n",
       "      <th>0</th>\n",
       "      <td>b</td>\n",
       "      <td>123</td>\n",
       "      <td>100</td>\n",
       "    </tr>\n",
       "    <tr>\n",
       "      <th>1</th>\n",
       "      <td>e</td>\n",
       "      <td>132</td>\n",
       "      <td>200</td>\n",
       "    </tr>\n",
       "    <tr>\n",
       "      <th>2</th>\n",
       "      <td>h</td>\n",
       "      <td>123</td>\n",
       "      <td>300</td>\n",
       "    </tr>\n",
       "    <tr>\n",
       "      <th>3</th>\n",
       "      <td>m</td>\n",
       "      <td>132</td>\n",
       "      <td>100</td>\n",
       "    </tr>\n",
       "    <tr>\n",
       "      <th>4</th>\n",
       "      <td>i</td>\n",
       "      <td>123</td>\n",
       "      <td>200</td>\n",
       "    </tr>\n",
       "  </tbody>\n",
       "</table>\n",
       "</div>"
      ],
      "text/plain": [
       "  letter   HD  UDD\n",
       "0      b  123  100\n",
       "1      e  132  200\n",
       "2      h  123  300\n",
       "3      m  132  100\n",
       "4      i  123  200"
      ]
     },
     "execution_count": 63,
     "metadata": {},
     "output_type": "execute_result"
    }
   ],
   "source": [
    "proc=pd.DataFrame(columns=['letter','HD','UDD'])\n",
    "proc.letter=letters\n",
    "proc.HD=HDlist\n",
    "proc.UDD=UDDlist\n",
    "\n",
    "proc.head()"
   ]
  },
  {
   "cell_type": "code",
   "execution_count": 92,
   "metadata": {
    "collapsed": false
   },
   "outputs": [
    {
     "name": "stdout",
     "output_type": "stream",
     "text": [
      "['users', 'hd0_b', 'udd0_b', 'hd1_e', 'udd1_e', 'hd2_h', 'udd2_h', 'hd3_m', 'udd3_m', 'hd4_i', 'udd4_i', 'hd5_n', 'udd5_n', 'hd6_y', 'udd6_y', 'hd7_a', 'udd7_a', 'hd8_n', 'udd8_n']\n"
     ]
    }
   ],
   "source": [
    "cols=['users','hd0_b', 'udd0_b', 'hd1_e', 'udd1_e', 'hd2_h', 'udd2_h', 'hd3_m', 'udd3_m', 'hd4_i', 'udd4_i', 'hd5_n', 'udd5_n', 'hd6_y', 'udd6_y', 'hd7_a', 'udd7_a', 'hd8_n', 'udd8_n']\n",
    "print cols"
   ]
  },
  {
   "cell_type": "code",
   "execution_count": 66,
   "metadata": {
    "collapsed": true
   },
   "outputs": [],
   "source": [
    "typedata = {}\n",
    "\n",
    "typedata['users']=[]\n",
    "for i in range(len(letters)):\n",
    "    typedata['hd'+str(i)+'_'+letters[i]]=[]\n",
    "    typedata['udd'+str(i)+'_'+letters[i]]=[]"
   ]
  },
  {
   "cell_type": "code",
   "execution_count": 81,
   "metadata": {
    "collapsed": false
   },
   "outputs": [
    {
     "name": "stdout",
     "output_type": "stream",
     "text": [
      "['users', 'hd0_b', 'udd0_b', 'hd1_e', 'udd1_e', 'hd2_h', 'udd2_h', 'hd3_m', 'udd3_m', 'hd4_i', 'udd4_i', 'hd5_n', 'udd5_n', 'hd6_y', 'udd6_y', 'hd7_a', 'udd7_a', 'hd8_n', 'udd8_n']\n",
      "{'udd8_n': [], 'hd7_a': [], 'users': [], 'udd2_h': [], 'hd2_h': [], 'udd5_n': [], 'udd7_a': [], 'hd1_e': [], 'hd4_i': [], 'udd0_b': [], 'udd6_y': [], 'udd4_i': [], 'hd3_m': [], 'hd6_y': [], 'udd3_m': [], 'udd1_e': [], 'hd8_n': [], 'hd0_b': [], 'hd5_n': []}\n"
     ]
    }
   ],
   "source": [
    "cols = []\n",
    "for i in range(len(letters)):\n",
    "    cols.append('hd'+str(i)+'_'+letters[i])\n",
    "    cols.append('udd'+str(i)+'_'+letters[i])\n",
    "print cols\n",
    "\n",
    "coldict={}\n",
    "for i in range(len(cols)):\n",
    "    coldict[cols[i]]=[]\n",
    "print coldict"
   ]
  },
  {
   "cell_type": "code",
   "execution_count": 69,
   "metadata": {
    "collapsed": false
   },
   "outputs": [
    {
     "data": {
      "text/plain": [
       "{'hd0_b': [123],\n",
       " 'hd1_e': [132],\n",
       " 'hd2_h': [123],\n",
       " 'hd3_m': [132],\n",
       " 'hd4_i': [123],\n",
       " 'hd5_n': [132],\n",
       " 'hd6_y': [123],\n",
       " 'hd7_a': [132],\n",
       " 'hd8_n': [123],\n",
       " 'udd0_b': [100],\n",
       " 'udd1_e': [200],\n",
       " 'udd2_h': [300],\n",
       " 'udd3_m': [100],\n",
       " 'udd4_i': [200],\n",
       " 'udd5_n': [300],\n",
       " 'udd6_y': [100],\n",
       " 'udd7_a': [200],\n",
       " 'udd8_n': [0],\n",
       " 'users': ['minyan']}"
      ]
     },
     "execution_count": 69,
     "metadata": {},
     "output_type": "execute_result"
    }
   ],
   "source": [
    "typedata"
   ]
  },
  {
   "cell_type": "code",
   "execution_count": 78,
   "metadata": {
    "collapsed": false
   },
   "outputs": [
    {
     "name": "stdout",
     "output_type": "stream",
     "text": [
      "{'minyan': ['minyan', 123, 100, 132, 200, 123, 300, 132, 100, 123, 200, 132, 300, 123, 100, 132, 200, 123, 0]}\n"
     ]
    }
   ],
   "source": [
    "name='minyan'\n",
    "usersdict={}\n",
    "\n",
    "userdata=[name]\n",
    "for i in range(len(letters)):\n",
    "    userdata.append(HDlist[i])\n",
    "    userdata.append(UDDlist[i])\n",
    "\n",
    "usersdict[name]=userdata\n",
    "print usersdict"
   ]
  },
  {
   "cell_type": "code",
   "execution_count": 80,
   "metadata": {
    "collapsed": false,
    "scrolled": true
   },
   "outputs": [
    {
     "ename": "AssertionError",
     "evalue": "19 columns passed, passed data had 2 columns",
     "output_type": "error",
     "traceback": [
      "\u001b[0;31m---------------------------------------------------------------------------\u001b[0m",
      "\u001b[0;31mAssertionError\u001b[0m                            Traceback (most recent call last)",
      "\u001b[0;32m<ipython-input-80-3f92fa4cc456>\u001b[0m in \u001b[0;36m<module>\u001b[0;34m()\u001b[0m\n\u001b[0;32m----> 1\u001b[0;31m \u001b[0mresult\u001b[0m\u001b[0;34m=\u001b[0m\u001b[0mpd\u001b[0m\u001b[0;34m.\u001b[0m\u001b[0mDataFrame\u001b[0m\u001b[0;34m(\u001b[0m\u001b[0musersdict\u001b[0m\u001b[0;34m.\u001b[0m\u001b[0mitems\u001b[0m\u001b[0;34m(\u001b[0m\u001b[0;34m)\u001b[0m\u001b[0;34m,\u001b[0m\u001b[0mcolumns\u001b[0m\u001b[0;34m=\u001b[0m\u001b[0mcols\u001b[0m\u001b[0;34m)\u001b[0m\u001b[0;34m\u001b[0m\u001b[0m\n\u001b[0m",
      "\u001b[0;32m/Users/behminyan/anaconda2/lib/python2.7/site-packages/pandas/core/frame.pyc\u001b[0m in \u001b[0;36m__init__\u001b[0;34m(self, data, index, columns, dtype, copy)\u001b[0m\n\u001b[1;32m    263\u001b[0m                     \u001b[0;32mif\u001b[0m \u001b[0mcom\u001b[0m\u001b[0;34m.\u001b[0m\u001b[0mis_named_tuple\u001b[0m\u001b[0;34m(\u001b[0m\u001b[0mdata\u001b[0m\u001b[0;34m[\u001b[0m\u001b[0;36m0\u001b[0m\u001b[0;34m]\u001b[0m\u001b[0;34m)\u001b[0m \u001b[0;32mand\u001b[0m \u001b[0mcolumns\u001b[0m \u001b[0;32mis\u001b[0m \u001b[0mNone\u001b[0m\u001b[0;34m:\u001b[0m\u001b[0;34m\u001b[0m\u001b[0m\n\u001b[1;32m    264\u001b[0m                         \u001b[0mcolumns\u001b[0m \u001b[0;34m=\u001b[0m \u001b[0mdata\u001b[0m\u001b[0;34m[\u001b[0m\u001b[0;36m0\u001b[0m\u001b[0;34m]\u001b[0m\u001b[0;34m.\u001b[0m\u001b[0m_fields\u001b[0m\u001b[0;34m\u001b[0m\u001b[0m\n\u001b[0;32m--> 265\u001b[0;31m                     \u001b[0marrays\u001b[0m\u001b[0;34m,\u001b[0m \u001b[0mcolumns\u001b[0m \u001b[0;34m=\u001b[0m \u001b[0m_to_arrays\u001b[0m\u001b[0;34m(\u001b[0m\u001b[0mdata\u001b[0m\u001b[0;34m,\u001b[0m \u001b[0mcolumns\u001b[0m\u001b[0;34m,\u001b[0m \u001b[0mdtype\u001b[0m\u001b[0;34m=\u001b[0m\u001b[0mdtype\u001b[0m\u001b[0;34m)\u001b[0m\u001b[0;34m\u001b[0m\u001b[0m\n\u001b[0m\u001b[1;32m    266\u001b[0m                     \u001b[0mcolumns\u001b[0m \u001b[0;34m=\u001b[0m \u001b[0m_ensure_index\u001b[0m\u001b[0;34m(\u001b[0m\u001b[0mcolumns\u001b[0m\u001b[0;34m)\u001b[0m\u001b[0;34m\u001b[0m\u001b[0m\n\u001b[1;32m    267\u001b[0m \u001b[0;34m\u001b[0m\u001b[0m\n",
      "\u001b[0;32m/Users/behminyan/anaconda2/lib/python2.7/site-packages/pandas/core/frame.pyc\u001b[0m in \u001b[0;36m_to_arrays\u001b[0;34m(data, columns, coerce_float, dtype)\u001b[0m\n\u001b[1;32m   5277\u001b[0m     \u001b[0;32mif\u001b[0m \u001b[0misinstance\u001b[0m\u001b[0;34m(\u001b[0m\u001b[0mdata\u001b[0m\u001b[0;34m[\u001b[0m\u001b[0;36m0\u001b[0m\u001b[0;34m]\u001b[0m\u001b[0;34m,\u001b[0m \u001b[0;34m(\u001b[0m\u001b[0mlist\u001b[0m\u001b[0;34m,\u001b[0m \u001b[0mtuple\u001b[0m\u001b[0;34m)\u001b[0m\u001b[0;34m)\u001b[0m\u001b[0;34m:\u001b[0m\u001b[0;34m\u001b[0m\u001b[0m\n\u001b[1;32m   5278\u001b[0m         return _list_to_arrays(data, columns, coerce_float=coerce_float,\n\u001b[0;32m-> 5279\u001b[0;31m                                dtype=dtype)\n\u001b[0m\u001b[1;32m   5280\u001b[0m     \u001b[0;32melif\u001b[0m \u001b[0misinstance\u001b[0m\u001b[0;34m(\u001b[0m\u001b[0mdata\u001b[0m\u001b[0;34m[\u001b[0m\u001b[0;36m0\u001b[0m\u001b[0;34m]\u001b[0m\u001b[0;34m,\u001b[0m \u001b[0mcollections\u001b[0m\u001b[0;34m.\u001b[0m\u001b[0mMapping\u001b[0m\u001b[0;34m)\u001b[0m\u001b[0;34m:\u001b[0m\u001b[0;34m\u001b[0m\u001b[0m\n\u001b[1;32m   5281\u001b[0m         return _list_of_dict_to_arrays(data, columns,\n",
      "\u001b[0;32m/Users/behminyan/anaconda2/lib/python2.7/site-packages/pandas/core/frame.pyc\u001b[0m in \u001b[0;36m_list_to_arrays\u001b[0;34m(data, columns, coerce_float, dtype)\u001b[0m\n\u001b[1;32m   5360\u001b[0m         \u001b[0mcontent\u001b[0m \u001b[0;34m=\u001b[0m \u001b[0mlist\u001b[0m\u001b[0;34m(\u001b[0m\u001b[0mlib\u001b[0m\u001b[0;34m.\u001b[0m\u001b[0mto_object_array\u001b[0m\u001b[0;34m(\u001b[0m\u001b[0mdata\u001b[0m\u001b[0;34m)\u001b[0m\u001b[0;34m.\u001b[0m\u001b[0mT\u001b[0m\u001b[0;34m)\u001b[0m\u001b[0;34m\u001b[0m\u001b[0m\n\u001b[1;32m   5361\u001b[0m     return _convert_object_array(content, columns, dtype=dtype,\n\u001b[0;32m-> 5362\u001b[0;31m                                  coerce_float=coerce_float)\n\u001b[0m\u001b[1;32m   5363\u001b[0m \u001b[0;34m\u001b[0m\u001b[0m\n\u001b[1;32m   5364\u001b[0m \u001b[0;34m\u001b[0m\u001b[0m\n",
      "\u001b[0;32m/Users/behminyan/anaconda2/lib/python2.7/site-packages/pandas/core/frame.pyc\u001b[0m in \u001b[0;36m_convert_object_array\u001b[0;34m(content, columns, coerce_float, dtype)\u001b[0m\n\u001b[1;32m   5418\u001b[0m             \u001b[0;31m# caller's responsibility to check for this...\u001b[0m\u001b[0;34m\u001b[0m\u001b[0;34m\u001b[0m\u001b[0m\n\u001b[1;32m   5419\u001b[0m             raise AssertionError('%d columns passed, passed data had %s '\n\u001b[0;32m-> 5420\u001b[0;31m                                  'columns' % (len(columns), len(content)))\n\u001b[0m\u001b[1;32m   5421\u001b[0m \u001b[0;34m\u001b[0m\u001b[0m\n\u001b[1;32m   5422\u001b[0m     \u001b[0;31m# provide soft conversion of object dtypes\u001b[0m\u001b[0;34m\u001b[0m\u001b[0;34m\u001b[0m\u001b[0m\n",
      "\u001b[0;31mAssertionError\u001b[0m: 19 columns passed, passed data had 2 columns"
     ]
    }
   ],
   "source": [
    "result=pd.DataFrame(usersdict.items(),columns=cols) "
   ]
  },
  {
   "cell_type": "code",
   "execution_count": 15,
   "metadata": {
    "collapsed": false
   },
   "outputs": [],
   "source": [
    "stock=pd.DataFrame(columns=['letter','DT','UT'])  "
   ]
  },
  {
   "cell_type": "code",
   "execution_count": 36,
   "metadata": {
    "collapsed": false
   },
   "outputs": [
    {
     "name": "stdout",
     "output_type": "stream",
     "text": [
      "[123, 132, 123, 132, 123, 132, 123, 132, 123]\n",
      "[100, 200, 300, 100, 200, 300, 100, 200, 300]\n"
     ]
    }
   ],
   "source": [
    "data = pd.read_csv('submit.csv')\n",
    "letters=data.letter.tolist()\n",
    "HDs=data.HD.tolist()\n",
    "UDDs=data.UDD.tolist()\n",
    "print HDs\n",
    "print UDDs"
   ]
  },
  {
   "cell_type": "code",
   "execution_count": 56,
   "metadata": {
    "collapsed": false
   },
   "outputs": [
    {
     "name": "stdout",
     "output_type": "stream",
     "text": [
      "Down Times: [0, 223, 555, 978, 1210, 1533, 1965, 2188, 2520]\n",
      "Up Times: [123, 355, 678, 1110, 1333, 1665, 2088, 2320, 2643]\n"
     ]
    }
   ],
   "source": [
    "letters=data.letter.tolist()\n",
    "UTs=data.HD.tolist()\n",
    "DTs=data.UDD.tolist()\n",
    "\n",
    "cumDTs=[0]\n",
    "cumUTs=[]\n",
    "\n",
    "track=0\n",
    "for i in range(len(data)):    \n",
    "    track+=HDs[i]\n",
    "    cumUTs.append(track)  \n",
    "    if (i < len(data) - 1) :\n",
    "        track+=UDDs[i]\n",
    "        cumDTs.append(track)\n",
    "    \n",
    "print 'Down Times:', cumDTs\n",
    "print 'Up Times:', cumUTs"
   ]
  },
  {
   "cell_type": "code",
   "execution_count": 58,
   "metadata": {
    "collapsed": true
   },
   "outputs": [],
   "source": [
    "input=pd.DataFrame(columns=['letter','DT','UT'])\n",
    "input.letter=letters\n",
    "input.DT=cumDTs\n",
    "input.UT=cumUTs\n",
    "input.to_csv(path_or_buf='input.csv',index=False)"
   ]
  },
  {
   "cell_type": "code",
   "execution_count": 168,
   "metadata": {
    "collapsed": true
   },
   "outputs": [],
   "source": [
    "json=[{\"y\": 65.3061224489796, \"x\": 61.224489795918366, \"letter\": \"b\", \"time\": 1469800740561}, {\"y\": 11.131725417439704, \"x\": 25.510204081632654, \"letter\": \"e\", \"time\": 1469800740729}, {\"y\": 37.291280148423006, \"x\": 59.897959183673464, \"letter\": \"h\", \"time\": 1469800740896}, {\"y\": 89.05380333951763, \"x\": 63.26530612244898, \"letter\": \"space\", \"time\": 1469800741129}, {\"y\": 66.79035250463822, \"x\": 76.42857142857142, \"letter\": \"m\", \"time\": 1469800741432}, {\"y\": 11.688311688311687, \"x\": 72.95918367346938, \"letter\": \"i\", \"time\": 1469800741612}, {\"y\": 57.5139146567718, \"x\": 68.77551020408164, \"letter\": \"n\", \"time\": 1469800741846}, {\"y\": 89.98144712430427, \"x\": 65.51020408163265, \"letter\": \"space\", \"time\": 1469800742112}, {\"y\": 13.358070500927644, \"x\": 54.89795918367347, \"letter\": \"y\", \"time\": 1469800742446}, {\"y\": 33.209647495361786, \"x\": 6.122448979591836, \"letter\": \"a\", \"time\": 1469800742580}, {\"y\": 67.3469387755102, \"x\": 67.55102040816327, \"letter\": \"n\", \"time\": 1469800742796}, {\"y\": 92.57884972170687, \"x\": 89.38775510204081, \"letter\": \"return\", \"time\": 1469800743129}]"
   ]
  },
  {
   "cell_type": "code",
   "execution_count": 172,
   "metadata": {
    "collapsed": false
   },
   "outputs": [],
   "source": [
    "import ast"
   ]
  },
  {
   "cell_type": "code",
   "execution_count": 169,
   "metadata": {
    "collapsed": false
   },
   "outputs": [],
   "source": [
    "datacols=['time','letter','x','y']\n",
    "datarows=[]\n",
    "for datarow in json:\n",
    "    datarows.append(datarow)\n",
    "    \n",
    "data = pd.DataFrame(datarows)"
   ]
  },
  {
   "cell_type": "code",
   "execution_count": 170,
   "metadata": {
    "collapsed": false
   },
   "outputs": [
    {
     "data": {
      "text/html": [
       "<div>\n",
       "<table border=\"1\" class=\"dataframe\">\n",
       "  <thead>\n",
       "    <tr style=\"text-align: right;\">\n",
       "      <th></th>\n",
       "      <th>letter</th>\n",
       "      <th>time</th>\n",
       "      <th>x</th>\n",
       "      <th>y</th>\n",
       "    </tr>\n",
       "  </thead>\n",
       "  <tbody>\n",
       "    <tr>\n",
       "      <th>0</th>\n",
       "      <td>b</td>\n",
       "      <td>1469800740561</td>\n",
       "      <td>61.224490</td>\n",
       "      <td>65.306122</td>\n",
       "    </tr>\n",
       "    <tr>\n",
       "      <th>1</th>\n",
       "      <td>e</td>\n",
       "      <td>1469800740729</td>\n",
       "      <td>25.510204</td>\n",
       "      <td>11.131725</td>\n",
       "    </tr>\n",
       "    <tr>\n",
       "      <th>2</th>\n",
       "      <td>h</td>\n",
       "      <td>1469800740896</td>\n",
       "      <td>59.897959</td>\n",
       "      <td>37.291280</td>\n",
       "    </tr>\n",
       "    <tr>\n",
       "      <th>3</th>\n",
       "      <td>space</td>\n",
       "      <td>1469800741129</td>\n",
       "      <td>63.265306</td>\n",
       "      <td>89.053803</td>\n",
       "    </tr>\n",
       "    <tr>\n",
       "      <th>4</th>\n",
       "      <td>m</td>\n",
       "      <td>1469800741432</td>\n",
       "      <td>76.428571</td>\n",
       "      <td>66.790353</td>\n",
       "    </tr>\n",
       "    <tr>\n",
       "      <th>5</th>\n",
       "      <td>i</td>\n",
       "      <td>1469800741612</td>\n",
       "      <td>72.959184</td>\n",
       "      <td>11.688312</td>\n",
       "    </tr>\n",
       "    <tr>\n",
       "      <th>6</th>\n",
       "      <td>n</td>\n",
       "      <td>1469800741846</td>\n",
       "      <td>68.775510</td>\n",
       "      <td>57.513915</td>\n",
       "    </tr>\n",
       "    <tr>\n",
       "      <th>7</th>\n",
       "      <td>space</td>\n",
       "      <td>1469800742112</td>\n",
       "      <td>65.510204</td>\n",
       "      <td>89.981447</td>\n",
       "    </tr>\n",
       "    <tr>\n",
       "      <th>8</th>\n",
       "      <td>y</td>\n",
       "      <td>1469800742446</td>\n",
       "      <td>54.897959</td>\n",
       "      <td>13.358071</td>\n",
       "    </tr>\n",
       "    <tr>\n",
       "      <th>9</th>\n",
       "      <td>a</td>\n",
       "      <td>1469800742580</td>\n",
       "      <td>6.122449</td>\n",
       "      <td>33.209647</td>\n",
       "    </tr>\n",
       "    <tr>\n",
       "      <th>10</th>\n",
       "      <td>n</td>\n",
       "      <td>1469800742796</td>\n",
       "      <td>67.551020</td>\n",
       "      <td>67.346939</td>\n",
       "    </tr>\n",
       "    <tr>\n",
       "      <th>11</th>\n",
       "      <td>return</td>\n",
       "      <td>1469800743129</td>\n",
       "      <td>89.387755</td>\n",
       "      <td>92.578850</td>\n",
       "    </tr>\n",
       "  </tbody>\n",
       "</table>\n",
       "</div>"
      ],
      "text/plain": [
       "    letter           time          x          y\n",
       "0        b  1469800740561  61.224490  65.306122\n",
       "1        e  1469800740729  25.510204  11.131725\n",
       "2        h  1469800740896  59.897959  37.291280\n",
       "3    space  1469800741129  63.265306  89.053803\n",
       "4        m  1469800741432  76.428571  66.790353\n",
       "5        i  1469800741612  72.959184  11.688312\n",
       "6        n  1469800741846  68.775510  57.513915\n",
       "7    space  1469800742112  65.510204  89.981447\n",
       "8        y  1469800742446  54.897959  13.358071\n",
       "9        a  1469800742580   6.122449  33.209647\n",
       "10       n  1469800742796  67.551020  67.346939\n",
       "11  return  1469800743129  89.387755  92.578850"
      ]
     },
     "execution_count": 170,
     "metadata": {},
     "output_type": "execute_result"
    }
   ],
   "source": [
    "data.sort_values(by=['time'])"
   ]
  },
  {
   "cell_type": "code",
   "execution_count": 185,
   "metadata": {
    "collapsed": false
   },
   "outputs": [],
   "source": [
    "downtimes=dataframe.time.tolist()"
   ]
  },
  {
   "cell_type": "code",
   "execution_count": 187,
   "metadata": {
    "collapsed": false
   },
   "outputs": [],
   "source": [
    "uptimes=[]\n",
    "for i in downtimes:\n",
    "    uptimes.append(i+200)\n",
    "dataframe['UT']=uptimes"
   ]
  },
  {
   "cell_type": "code",
   "execution_count": 189,
   "metadata": {
    "collapsed": false
   },
   "outputs": [],
   "source": [
    "dataframe['DT']=downtimes\n",
    "dataframe.to_csv('test.csv', index=False)"
   ]
  }
 ],
 "metadata": {
  "kernelspec": {
   "display_name": "Python 2",
   "language": "python",
   "name": "python2"
  },
  "language_info": {
   "codemirror_mode": {
    "name": "ipython",
    "version": 2
   },
   "file_extension": ".py",
   "mimetype": "text/x-python",
   "name": "python",
   "nbconvert_exporter": "python",
   "pygments_lexer": "ipython2",
   "version": "2.7.12"
  }
 },
 "nbformat": 4,
 "nbformat_minor": 0
}
