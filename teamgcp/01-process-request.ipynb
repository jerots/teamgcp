{
 "cells": [
  {
   "cell_type": "code",
   "execution_count": 16,
   "metadata": {
    "collapsed": true
   },
   "outputs": [],
   "source": [
    "import numpy as np\n",
    "import pandas as pd\n",
    "\n",
    "import ast\n",
    "import glob\n",
    "import re\n",
    "\n",
    "user='changsheng'"
   ]
  },
  {
   "cell_type": "code",
   "execution_count": 17,
   "metadata": {
    "collapsed": false
   },
   "outputs": [
    {
     "name": "stdout",
     "output_type": "stream",
     "text": [
      "FILENAMES: ['data/changsheng/behminyan_1.txt', 'data/changsheng/behminyan_10.txt', 'data/changsheng/behminyan_2.txt', 'data/changsheng/behminyan_3.txt', 'data/changsheng/behminyan_4.txt', 'data/changsheng/behminyan_5.txt', 'data/changsheng/behminyan_6.txt', 'data/changsheng/behminyan_7.txt', 'data/changsheng/behminyan_8.txt', 'data/changsheng/behminyan_9.txt', 'data/changsheng/codextreme2016_1.txt', 'data/changsheng/codextreme2016_2.txt', 'data/changsheng/codextreme2016_3.txt', 'data/changsheng/codextreme2016_4.txt', 'data/changsheng/jeremgong_1.txt', 'data/changsheng/jeremyong_1.txt', 'data/changsheng/jeremyong_2.txt']\n"
     ]
    }
   ],
   "source": [
    "# http://stackoverflow.com/ questions/3207219/how-to-list-all-files-of-a-directory-in-python\n",
    "filenames=glob.glob(\"data/\"+user+\"/*.txt\")\n",
    "print 'FILENAMES:', filenames"
   ]
  },
  {
   "cell_type": "code",
   "execution_count": 18,
   "metadata": {
    "collapsed": false
   },
   "outputs": [
    {
     "name": "stdout",
     "output_type": "stream",
     "text": [
      "False , changsheng , behminyan\n",
      "False , changsheng , behminyan\n",
      "False , changsheng , behminyan\n",
      "False , changsheng , behminyan\n",
      "False , changsheng , behminyan\n",
      "False , changsheng , behminyan\n",
      "False , changsheng , behminyan\n",
      "False , changsheng , behminyan\n",
      "False , changsheng , behminyan\n",
      "False , changsheng , behminyan\n",
      "False , changsheng , codextreme2016\n",
      "False , changsheng , codextreme2016\n",
      "False , changsheng , codextreme2016\n",
      "False , changsheng , codextreme2016\n",
      "False , changsheng , jeremgong\n",
      "False , changsheng , jeremyong\n",
      "False , changsheng , jeremyong\n"
     ]
    }
   ],
   "source": [
    "for filename in filenames:\n",
    "    cols=['letter','username','down_time','down_x','down_y','up_time','up_x','up_y']\n",
    "    datarows=[]\n",
    "\n",
    "    # TO IMPLEMENT: IMPOSTER AND USERNAME\n",
    "    with open(filename) as f: \n",
    "        for submit in f:\n",
    "            json=ast.literal_eval(submit)\n",
    "\n",
    "            inputtext=json['text'].replace(\" \", \"\")\n",
    "            username=user\n",
    "            isGenuine=username==inputtext\n",
    "    #         isGenuine=!json['imposter']\n",
    "            print isGenuine, \",\", username, \",\", inputtext\n",
    "\n",
    "\n",
    "            for i in range(len(json['data'])):\n",
    "                key=json['data'][i]\n",
    "                datarow={}\n",
    "\n",
    "                datarow['letter']=key['letter']\n",
    "                datarow['username']=username\n",
    "                datarow['down_time']=key['down']['time']\n",
    "                datarow['down_x']=key['down']['x']\n",
    "                datarow['down_y']=key['down']['y']\n",
    "                datarow['up_time']=key['up']['time']\n",
    "                datarow['up_x']=key['up']['x']\n",
    "                datarow['up_y']=key['up']['y']\n",
    "\n",
    "                datarows.append(datarow)\n",
    "    df = pd.DataFrame(datarows, columns=cols)\n",
    "    \n",
    "    outputfile = filename[:filename.rfind('.')] + \".csv\"\n",
    "    df.sort_values(by=['up_time']).to_csv(path_or_buf=outputfile,index=False)"
   ]
  },
  {
   "cell_type": "code",
   "execution_count": 19,
   "metadata": {
    "collapsed": false
   },
   "outputs": [
    {
     "data": {
      "text/html": [
       "<div>\n",
       "<table border=\"1\" class=\"dataframe\">\n",
       "  <thead>\n",
       "    <tr style=\"text-align: right;\">\n",
       "      <th></th>\n",
       "      <th>letter</th>\n",
       "      <th>username</th>\n",
       "      <th>down_time</th>\n",
       "      <th>down_x</th>\n",
       "      <th>down_y</th>\n",
       "      <th>up_time</th>\n",
       "      <th>up_x</th>\n",
       "      <th>up_y</th>\n",
       "    </tr>\n",
       "  </thead>\n",
       "  <tbody>\n",
       "    <tr>\n",
       "      <th>0</th>\n",
       "      <td>j</td>\n",
       "      <td>changsheng</td>\n",
       "      <td>1469820305215</td>\n",
       "      <td>67.200000</td>\n",
       "      <td>44.174757</td>\n",
       "      <td>1469820305281</td>\n",
       "      <td>67.200000</td>\n",
       "      <td>44.174757</td>\n",
       "    </tr>\n",
       "    <tr>\n",
       "      <th>1</th>\n",
       "      <td>e</td>\n",
       "      <td>changsheng</td>\n",
       "      <td>1469820305332</td>\n",
       "      <td>22.400000</td>\n",
       "      <td>14.077670</td>\n",
       "      <td>1469820305414</td>\n",
       "      <td>22.400000</td>\n",
       "      <td>14.077670</td>\n",
       "    </tr>\n",
       "    <tr>\n",
       "      <th>2</th>\n",
       "      <td>r</td>\n",
       "      <td>changsheng</td>\n",
       "      <td>1469820305515</td>\n",
       "      <td>33.333333</td>\n",
       "      <td>22.815534</td>\n",
       "      <td>1469820305580</td>\n",
       "      <td>33.333333</td>\n",
       "      <td>22.815534</td>\n",
       "    </tr>\n",
       "    <tr>\n",
       "      <th>3</th>\n",
       "      <td>e</td>\n",
       "      <td>changsheng</td>\n",
       "      <td>1469820305665</td>\n",
       "      <td>21.866667</td>\n",
       "      <td>10.679612</td>\n",
       "      <td>1469820305747</td>\n",
       "      <td>21.866667</td>\n",
       "      <td>10.679612</td>\n",
       "    </tr>\n",
       "    <tr>\n",
       "      <th>4</th>\n",
       "      <td>m</td>\n",
       "      <td>changsheng</td>\n",
       "      <td>1469820305782</td>\n",
       "      <td>78.933333</td>\n",
       "      <td>66.504854</td>\n",
       "      <td>1469820305864</td>\n",
       "      <td>78.933333</td>\n",
       "      <td>66.504854</td>\n",
       "    </tr>\n",
       "    <tr>\n",
       "      <th>5</th>\n",
       "      <td>y</td>\n",
       "      <td>changsheng</td>\n",
       "      <td>1469820306032</td>\n",
       "      <td>55.200000</td>\n",
       "      <td>19.902913</td>\n",
       "      <td>1469820306115</td>\n",
       "      <td>55.200000</td>\n",
       "      <td>19.902913</td>\n",
       "    </tr>\n",
       "    <tr>\n",
       "      <th>6</th>\n",
       "      <td>space</td>\n",
       "      <td>changsheng</td>\n",
       "      <td>1469820306548</td>\n",
       "      <td>63.200000</td>\n",
       "      <td>78.640777</td>\n",
       "      <td>1469820306630</td>\n",
       "      <td>63.200000</td>\n",
       "      <td>78.640777</td>\n",
       "    </tr>\n",
       "    <tr>\n",
       "      <th>7</th>\n",
       "      <td>o</td>\n",
       "      <td>changsheng</td>\n",
       "      <td>1469820306782</td>\n",
       "      <td>85.333333</td>\n",
       "      <td>15.533981</td>\n",
       "      <td>1469820306864</td>\n",
       "      <td>82.666667</td>\n",
       "      <td>20.388350</td>\n",
       "    </tr>\n",
       "    <tr>\n",
       "      <th>8</th>\n",
       "      <td>n</td>\n",
       "      <td>changsheng</td>\n",
       "      <td>1469820306982</td>\n",
       "      <td>70.666667</td>\n",
       "      <td>66.019417</td>\n",
       "      <td>1469820307065</td>\n",
       "      <td>70.666667</td>\n",
       "      <td>66.019417</td>\n",
       "    </tr>\n",
       "    <tr>\n",
       "      <th>9</th>\n",
       "      <td>g</td>\n",
       "      <td>changsheng</td>\n",
       "      <td>1469820307115</td>\n",
       "      <td>47.200000</td>\n",
       "      <td>38.834951</td>\n",
       "      <td>1469820307197</td>\n",
       "      <td>47.200000</td>\n",
       "      <td>38.834951</td>\n",
       "    </tr>\n",
       "    <tr>\n",
       "      <th>10</th>\n",
       "      <td>return</td>\n",
       "      <td>changsheng</td>\n",
       "      <td>1469820307631</td>\n",
       "      <td>87.200000</td>\n",
       "      <td>83.009709</td>\n",
       "      <td>1469820307747</td>\n",
       "      <td>87.200000</td>\n",
       "      <td>83.009709</td>\n",
       "    </tr>\n",
       "  </tbody>\n",
       "</table>\n",
       "</div>"
      ],
      "text/plain": [
       "    letter    username      down_time     down_x     down_y        up_time  \\\n",
       "0        j  changsheng  1469820305215  67.200000  44.174757  1469820305281   \n",
       "1        e  changsheng  1469820305332  22.400000  14.077670  1469820305414   \n",
       "2        r  changsheng  1469820305515  33.333333  22.815534  1469820305580   \n",
       "3        e  changsheng  1469820305665  21.866667  10.679612  1469820305747   \n",
       "4        m  changsheng  1469820305782  78.933333  66.504854  1469820305864   \n",
       "5        y  changsheng  1469820306032  55.200000  19.902913  1469820306115   \n",
       "6    space  changsheng  1469820306548  63.200000  78.640777  1469820306630   \n",
       "7        o  changsheng  1469820306782  85.333333  15.533981  1469820306864   \n",
       "8        n  changsheng  1469820306982  70.666667  66.019417  1469820307065   \n",
       "9        g  changsheng  1469820307115  47.200000  38.834951  1469820307197   \n",
       "10  return  changsheng  1469820307631  87.200000  83.009709  1469820307747   \n",
       "\n",
       "         up_x       up_y  \n",
       "0   67.200000  44.174757  \n",
       "1   22.400000  14.077670  \n",
       "2   33.333333  22.815534  \n",
       "3   21.866667  10.679612  \n",
       "4   78.933333  66.504854  \n",
       "5   55.200000  19.902913  \n",
       "6   63.200000  78.640777  \n",
       "7   82.666667  20.388350  \n",
       "8   70.666667  66.019417  \n",
       "9   47.200000  38.834951  \n",
       "10  87.200000  83.009709  "
      ]
     },
     "execution_count": 19,
     "metadata": {},
     "output_type": "execute_result"
    }
   ],
   "source": [
    "df"
   ]
  },
  {
   "cell_type": "code",
   "execution_count": 10,
   "metadata": {
    "collapsed": true
   },
   "outputs": [],
   "source": [
    "string='{\"imposter\": \"false\", \"data\": [{\"down\": {\"y\": 63.07977736549165, \"x\": 61.0204081632653, \"time\": 1469802323657}, \"up\": {\"y\": 63.07977736549165, \"x\": 61.0204081632653, \"time\": 1469802323757}, \"letter\": \"b\"}, {\"down\": {\"y\": 14.656771799628942, \"x\": 26.632653061224488, \"time\": 1469802323775}, \"up\": {\"y\": 14.656771799628942, \"x\": 26.632653061224488, \"time\": 1469802323840}, \"letter\": \"e\"}, {\"down\": {\"y\": 29.12801484230056, \"x\": 60.51020408163266, \"time\": 1469802323925}, \"up\": {\"y\": 29.12801484230056, \"x\": 60.51020408163266, \"time\": 1469802323990}, \"letter\": \"h\"}, {\"down\": {\"y\": 85.52875695732838, \"x\": 67.75510204081633, \"time\": 1469802324108}, \"up\": {\"y\": 85.34322820037106, \"x\": 68.57142857142857, \"time\": 1469802324191}, \"letter\": \"space\"}, {\"down\": {\"y\": 60.85343228200371, \"x\": 81.53061224489797, \"time\": 1469802324325}, \"up\": {\"y\": 60.85343228200371, \"x\": 81.53061224489797, \"time\": 1469802324391}, \"letter\": \"m\"}, {\"down\": {\"y\": 10.760667903525047, \"x\": 75.51020408163265, \"time\": 1469802324525}, \"up\": {\"y\": 10.760667903525047, \"x\": 75.51020408163265, \"time\": 1469802324590}, \"letter\": \"i\"}, {\"down\": {\"y\": 53.80333951762524, \"x\": 72.95918367346938, \"time\": 1469802324708}, \"up\": {\"y\": 53.80333951762524, \"x\": 72.95918367346938, \"time\": 1469802324757}, \"letter\": \"n\"}, {\"down\": {\"y\": 79.96289424860854, \"x\": 67.3469387755102, \"time\": 1469802324875}, \"up\": {\"y\": 79.96289424860854, \"x\": 67.3469387755102, \"time\": 1469802324940}, \"letter\": \"space\"}, {\"down\": {\"y\": 11.50278293135436, \"x\": 58.77551020408164, \"time\": 1469802325092}, \"up\": {\"y\": 11.50278293135436, \"x\": 58.77551020408164, \"time\": 1469802325157}, \"letter\": \"y\"}, {\"down\": {\"y\": 37.291280148423006, \"x\": 8.16326530612245, \"time\": 1469802325208}, \"up\": {\"y\": 37.291280148423006, \"x\": 8.16326530612245, \"time\": 1469802325290}, \"letter\": \"a\"}, {\"down\": {\"y\": 56.77179962894249, \"x\": 66.83673469387756, \"time\": 1469802325342}, \"up\": {\"y\": 56.77179962894249, \"x\": 66.83673469387756, \"time\": 1469802325407}, \"letter\": \"n\"}, {\"down\": {\"y\": 86.08534322820037, \"x\": 85, \"time\": 1469802325591}, \"up\": {\"y\": 86.08534322820037, \"x\": 85, \"time\": 1469802325674}, \"letter\": \"return\"}], \"id\": \"1\", \"text\": \"beh min yan\"}'"
   ]
  },
  {
   "cell_type": "code",
   "execution_count": 11,
   "metadata": {
    "collapsed": true
   },
   "outputs": [],
   "source": [
    "with open(\"test.txt\", \"w\") as writefile:\n",
    "    writefile.write(string)"
   ]
  },
  {
   "cell_type": "code",
   "execution_count": null,
   "metadata": {
    "collapsed": true
   },
   "outputs": [],
   "source": []
  }
 ],
 "metadata": {
  "kernelspec": {
   "display_name": "Python 2",
   "language": "python",
   "name": "python2"
  },
  "language_info": {
   "codemirror_mode": {
    "name": "ipython",
    "version": 2
   },
   "file_extension": ".py",
   "mimetype": "text/x-python",
   "name": "python",
   "nbconvert_exporter": "python",
   "pygments_lexer": "ipython2",
   "version": "2.7.12"
  }
 },
 "nbformat": 4,
 "nbformat_minor": 0
}
